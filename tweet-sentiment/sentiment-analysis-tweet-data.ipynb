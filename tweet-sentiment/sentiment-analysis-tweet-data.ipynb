{
 "cells": [
  {
   "cell_type": "markdown",
   "id": "44c70337",
   "metadata": {},
   "source": [
    "# 1. Load The Tweets Dataset "
   ]
  },
  {
   "cell_type": "code",
   "execution_count": 126,
   "id": "1c6d6b10",
   "metadata": {},
   "outputs": [],
   "source": [
    "import pandas as pd"
   ]
  },
  {
   "cell_type": "code",
   "execution_count": 127,
   "id": "8d002621",
   "metadata": {},
   "outputs": [
    {
     "data": {
      "text/html": [
       "<div>\n",
       "<style scoped>\n",
       "    .dataframe tbody tr th:only-of-type {\n",
       "        vertical-align: middle;\n",
       "    }\n",
       "\n",
       "    .dataframe tbody tr th {\n",
       "        vertical-align: top;\n",
       "    }\n",
       "\n",
       "    .dataframe thead th {\n",
       "        text-align: right;\n",
       "    }\n",
       "</style>\n",
       "<table border=\"1\" class=\"dataframe\">\n",
       "  <thead>\n",
       "    <tr style=\"text-align: right;\">\n",
       "      <th></th>\n",
       "      <th>id</th>\n",
       "      <th>label</th>\n",
       "      <th>tweet</th>\n",
       "    </tr>\n",
       "  </thead>\n",
       "  <tbody>\n",
       "    <tr>\n",
       "      <th>0</th>\n",
       "      <td>1</td>\n",
       "      <td>0</td>\n",
       "      <td>#fingerprint #Pregnancy Test https://goo.gl/h1MfQV #android #apps #beautiful #cute #health #igers #iphoneonly #iphonesia #iphone</td>\n",
       "    </tr>\n",
       "    <tr>\n",
       "      <th>1</th>\n",
       "      <td>2</td>\n",
       "      <td>0</td>\n",
       "      <td>Finally a transparant silicon case ^^ Thanks to my uncle :) #yay #Sony #Xperia #S #sonyexperias… http://instagram.com/p/YGEt5JC6JM/</td>\n",
       "    </tr>\n",
       "    <tr>\n",
       "      <th>2</th>\n",
       "      <td>3</td>\n",
       "      <td>0</td>\n",
       "      <td>We love this! Would you go? #talk #makememories #unplug #relax #iphone #smartphone #wifi #connect... http://fb.me/6N3LsUpCu</td>\n",
       "    </tr>\n",
       "    <tr>\n",
       "      <th>3</th>\n",
       "      <td>4</td>\n",
       "      <td>0</td>\n",
       "      <td>I'm wired I know I'm George I was made that way ;) #iphone #cute #daventry #home http://instagr.am/p/Li_5_ujS4k/</td>\n",
       "    </tr>\n",
       "    <tr>\n",
       "      <th>4</th>\n",
       "      <td>5</td>\n",
       "      <td>1</td>\n",
       "      <td>What amazing service! Apple won't even talk to me about a question I have unless I pay them $19.95 for their stupid support!</td>\n",
       "    </tr>\n",
       "  </tbody>\n",
       "</table>\n",
       "</div>"
      ],
      "text/plain": [
       "   id  label  \\\n",
       "0   1      0   \n",
       "1   2      0   \n",
       "2   3      0   \n",
       "3   4      0   \n",
       "4   5      1   \n",
       "\n",
       "                                                                                                                                 tweet  \n",
       "0     #fingerprint #Pregnancy Test https://goo.gl/h1MfQV #android #apps #beautiful #cute #health #igers #iphoneonly #iphonesia #iphone  \n",
       "1  Finally a transparant silicon case ^^ Thanks to my uncle :) #yay #Sony #Xperia #S #sonyexperias… http://instagram.com/p/YGEt5JC6JM/  \n",
       "2          We love this! Would you go? #talk #makememories #unplug #relax #iphone #smartphone #wifi #connect... http://fb.me/6N3LsUpCu  \n",
       "3                     I'm wired I know I'm George I was made that way ;) #iphone #cute #daventry #home http://instagr.am/p/Li_5_ujS4k/  \n",
       "4         What amazing service! Apple won't even talk to me about a question I have unless I pay them $19.95 for their stupid support!  "
      ]
     },
     "execution_count": 127,
     "metadata": {},
     "output_type": "execute_result"
    }
   ],
   "source": [
    "data = pd.read_csv('data/tweets.csv')\n",
    "data.head()"
   ]
  },
  {
   "cell_type": "code",
   "execution_count": 128,
   "id": "377d93bf",
   "metadata": {},
   "outputs": [],
   "source": [
    "# 0 refers to positive sentiment, 1 is negative sentiment"
   ]
  },
  {
   "cell_type": "code",
   "execution_count": 129,
   "id": "607aab79",
   "metadata": {},
   "outputs": [
    {
     "name": "stdout",
     "output_type": "stream",
     "text": [
      "<class 'pandas.core.frame.DataFrame'>\n",
      "RangeIndex: 7920 entries, 0 to 7919\n",
      "Data columns (total 3 columns):\n",
      " #   Column  Non-Null Count  Dtype \n",
      "---  ------  --------------  ----- \n",
      " 0   id      7920 non-null   int64 \n",
      " 1   label   7920 non-null   int64 \n",
      " 2   tweet   7920 non-null   object\n",
      "dtypes: int64(2), object(1)\n",
      "memory usage: 185.8+ KB\n"
     ]
    }
   ],
   "source": [
    "data.info()"
   ]
  },
  {
   "cell_type": "code",
   "execution_count": 130,
   "id": "25e83372",
   "metadata": {},
   "outputs": [
    {
     "data": {
      "text/plain": [
       "id       0\n",
       "label    0\n",
       "tweet    0\n",
       "dtype: int64"
      ]
     },
     "execution_count": 130,
     "metadata": {},
     "output_type": "execute_result"
    }
   ],
   "source": [
    "# check for missing values\n",
    "data.isnull().sum()"
   ]
  },
  {
   "cell_type": "code",
   "execution_count": 131,
   "id": "3a762be5",
   "metadata": {},
   "outputs": [
    {
     "data": {
      "text/html": [
       "<div>\n",
       "<style scoped>\n",
       "    .dataframe tbody tr th:only-of-type {\n",
       "        vertical-align: middle;\n",
       "    }\n",
       "\n",
       "    .dataframe tbody tr th {\n",
       "        vertical-align: top;\n",
       "    }\n",
       "\n",
       "    .dataframe thead th {\n",
       "        text-align: right;\n",
       "    }\n",
       "</style>\n",
       "<table border=\"1\" class=\"dataframe\">\n",
       "  <thead>\n",
       "    <tr style=\"text-align: right;\">\n",
       "      <th></th>\n",
       "      <th>id</th>\n",
       "      <th>label</th>\n",
       "      <th>tweet</th>\n",
       "    </tr>\n",
       "  </thead>\n",
       "  <tbody>\n",
       "    <tr>\n",
       "      <th>0</th>\n",
       "      <td>1</td>\n",
       "      <td>0</td>\n",
       "      <td>#fingerprint #Pregnancy Test https://goo.gl/h1MfQV #android #apps #beautiful #cute #health #igers #iphoneonly #iphonesia #iphone</td>\n",
       "    </tr>\n",
       "    <tr>\n",
       "      <th>1</th>\n",
       "      <td>2</td>\n",
       "      <td>0</td>\n",
       "      <td>Finally a transparant silicon case ^^ Thanks to my uncle :) #yay #Sony #Xperia #S #sonyexperias… http://instagram.com/p/YGEt5JC6JM/</td>\n",
       "    </tr>\n",
       "    <tr>\n",
       "      <th>2</th>\n",
       "      <td>3</td>\n",
       "      <td>0</td>\n",
       "      <td>We love this! Would you go? #talk #makememories #unplug #relax #iphone #smartphone #wifi #connect... http://fb.me/6N3LsUpCu</td>\n",
       "    </tr>\n",
       "    <tr>\n",
       "      <th>3</th>\n",
       "      <td>4</td>\n",
       "      <td>0</td>\n",
       "      <td>I'm wired I know I'm George I was made that way ;) #iphone #cute #daventry #home http://instagr.am/p/Li_5_ujS4k/</td>\n",
       "    </tr>\n",
       "    <tr>\n",
       "      <th>4</th>\n",
       "      <td>5</td>\n",
       "      <td>1</td>\n",
       "      <td>What amazing service! Apple won't even talk to me about a question I have unless I pay them $19.95 for their stupid support!</td>\n",
       "    </tr>\n",
       "  </tbody>\n",
       "</table>\n",
       "</div>"
      ],
      "text/plain": [
       "   id  label  \\\n",
       "0   1      0   \n",
       "1   2      0   \n",
       "2   3      0   \n",
       "3   4      0   \n",
       "4   5      1   \n",
       "\n",
       "                                                                                                                                 tweet  \n",
       "0     #fingerprint #Pregnancy Test https://goo.gl/h1MfQV #android #apps #beautiful #cute #health #igers #iphoneonly #iphonesia #iphone  \n",
       "1  Finally a transparant silicon case ^^ Thanks to my uncle :) #yay #Sony #Xperia #S #sonyexperias… http://instagram.com/p/YGEt5JC6JM/  \n",
       "2          We love this! Would you go? #talk #makememories #unplug #relax #iphone #smartphone #wifi #connect... http://fb.me/6N3LsUpCu  \n",
       "3                     I'm wired I know I'm George I was made that way ;) #iphone #cute #daventry #home http://instagr.am/p/Li_5_ujS4k/  \n",
       "4         What amazing service! Apple won't even talk to me about a question I have unless I pay them $19.95 for their stupid support!  "
      ]
     },
     "execution_count": 131,
     "metadata": {},
     "output_type": "execute_result"
    }
   ],
   "source": [
    "# drop the id column\n",
    "# data.drop(['id'], axis=1, inplace=True)\n",
    "data.head()"
   ]
  },
  {
   "cell_type": "code",
   "execution_count": 132,
   "id": "5fef08e2",
   "metadata": {},
   "outputs": [
    {
     "data": {
      "text/plain": [
       "label\n",
       "0    0.744192\n",
       "1    0.255808\n",
       "Name: proportion, dtype: float64"
      ]
     },
     "execution_count": 132,
     "metadata": {},
     "output_type": "execute_result"
    }
   ],
   "source": [
    "# Check for the class balance\n",
    "data['label'].value_counts(normalize=True)"
   ]
  },
  {
   "cell_type": "code",
   "execution_count": 133,
   "id": "da964ccc",
   "metadata": {},
   "outputs": [
    {
     "data": {
      "text/plain": [
       "<Axes: xlabel='label'>"
      ]
     },
     "execution_count": 133,
     "metadata": {},
     "output_type": "execute_result"
    },
    {
     "data": {
      "image/png": "[encoded data removed]",
      "text/plain": [
       "<Figure size 640x480 with 1 Axes>"
      ]
     },
     "metadata": {},
     "output_type": "display_data"
    }
   ],
   "source": [
    "# plot the label counts \n",
    "data['label'].value_counts().plot(kind='bar')"
   ]
  },
  {
   "cell_type": "markdown",
   "id": "2ebe7934",
   "metadata": {},
   "source": [
    "# 2. Data Cleaning"
   ]
  },
  {
   "cell_type": "code",
   "execution_count": 134,
   "id": "864cb495",
   "metadata": {},
   "outputs": [
    {
     "data": {
      "text/plain": [
       "\"It's time for new wallpapers #phone #wallpapers #wall #screen #galaxy #samsung #app … https://www.instagram.com/p/BcsKTNNn51c/\""
      ]
     },
     "execution_count": 134,
     "metadata": {},
     "output_type": "execute_result"
    }
   ],
   "source": [
    "data['tweet'][24]"
   ]
  },
  {
   "cell_type": "code",
   "execution_count": 135,
   "id": "29638830",
   "metadata": {},
   "outputs": [],
   "source": [
    "import re"
   ]
  },
  {
   "cell_type": "code",
   "execution_count": 136,
   "id": "e21a6b13",
   "metadata": {},
   "outputs": [
    {
     "data": {
      "text/plain": [
       "'It is time for new wallpapers #phone #wallpapers #wall #screen #galaxy #samsung #app … https://www.instagram.com/p/BcsKTNNn51c/'"
      ]
     },
     "execution_count": 136,
     "metadata": {},
     "output_type": "execute_result"
    }
   ],
   "source": [
    "# Substitute 's with \" is\" \n",
    "re.sub(r\"'s\\b\", \" is\", data['tweet'][24])"
   ]
  },
  {
   "cell_type": "code",
   "execution_count": 137,
   "id": "cd7dcd23",
   "metadata": {},
   "outputs": [
    {
     "data": {
      "text/plain": [
       "'Ha! Not heavy machinery but it does what I need it to. @Apple really dropped the ball with that design. #drinkyourhaterade'"
      ]
     },
     "execution_count": 137,
     "metadata": {},
     "output_type": "execute_result"
    }
   ],
   "source": [
    "# Removing the user mentions\n",
    "data['tweet'][11]"
   ]
  },
  {
   "cell_type": "code",
   "execution_count": 138,
   "id": "6376ce28",
   "metadata": {},
   "outputs": [
    {
     "data": {
      "text/plain": [
       "'Ha! Not heavy machinery but it does what I need it to.  really dropped the ball with that design. #drinkyourhaterade'"
      ]
     },
     "execution_count": 138,
     "metadata": {},
     "output_type": "execute_result"
    }
   ],
   "source": [
    "# We'll retain on the alphabets & digits\n",
    "re.sub(\"@[A-Za-z0-9]+\", \"\", data['tweet'][11])"
   ]
  },
  {
   "cell_type": "code",
   "execution_count": 139,
   "id": "dfef97f7",
   "metadata": {},
   "outputs": [
    {
     "data": {
      "text/plain": [
       "'#fingerprint #Pregnancy Test https://goo.gl/h1MfQV #android #apps #beautiful #cute #health #igers #iphoneonly #iphonesia #iphone'"
      ]
     },
     "execution_count": 139,
     "metadata": {},
     "output_type": "execute_result"
    }
   ],
   "source": [
    "# remive the hashtags\n",
    "data['tweet'][0]"
   ]
  },
  {
   "cell_type": "code",
   "execution_count": 140,
   "id": "414a68ed",
   "metadata": {},
   "outputs": [
    {
     "data": {
      "text/plain": [
       "'fingerprint Pregnancy Test https://goo.gl/h1MfQV android apps beautiful cute health igers iphoneonly iphonesia iphone'"
      ]
     },
     "execution_count": 140,
     "metadata": {},
     "output_type": "execute_result"
    }
   ],
   "source": [
    "re.sub(\"#\", \"\", data['tweet'][0])"
   ]
  },
  {
   "cell_type": "code",
   "execution_count": 141,
   "id": "d228f1a8",
   "metadata": {},
   "outputs": [
    {
     "data": {
      "text/plain": [
       "'#fingerprint #Pregnancy Test  #android #apps #beautiful #cute #health #igers #iphoneonly #iphonesia #iphone'"
      ]
     },
     "execution_count": 141,
     "metadata": {},
     "output_type": "execute_result"
    }
   ],
   "source": [
    "# Removing the hyperlinks\n",
    "re.sub(r\"http\\S+\", \"\", data['tweet'][0])"
   ]
  },
  {
   "cell_type": "code",
   "execution_count": 142,
   "id": "6db434b8",
   "metadata": {},
   "outputs": [
    {
     "data": {
      "text/plain": [
       "'1.05 billion for 3 patents where there is prior art = 300 millions each = patent trolls are partying now thanks to Apple #apple'"
      ]
     },
     "execution_count": 142,
     "metadata": {},
     "output_type": "execute_result"
    }
   ],
   "source": [
    "# Retain on the alphabets (get rid of punctuations, special char, digits)\n",
    "data['tweet'][25]"
   ]
  },
  {
   "cell_type": "code",
   "execution_count": 143,
   "id": "39aba7ae",
   "metadata": {},
   "outputs": [
    {
     "data": {
      "text/plain": [
       "' fingerprint  Pregnancy Test https   goo gl h MfQV  android  apps  beautiful  cute  health  igers  iphoneonly  iphonesia  iphone'"
      ]
     },
     "execution_count": 143,
     "metadata": {},
     "output_type": "execute_result"
    }
   ],
   "source": [
    "re.sub(r\"[^a-zA-Z]\", \" \", data['tweet'][0])"
   ]
  },
  {
   "cell_type": "code",
   "execution_count": 144,
   "id": "64848c44",
   "metadata": {},
   "outputs": [],
   "source": [
    "# Stop words Removal\n",
    "import nltk\n",
    "from nltk.corpus import stopwords"
   ]
  },
  {
   "cell_type": "code",
   "execution_count": 145,
   "id": "e791f4e7",
   "metadata": {},
   "outputs": [
    {
     "name": "stdout",
     "output_type": "stream",
     "text": [
      "{'off', 'do', 'no', 'm', 'few', 'couldn', 'aren', 'mightn', 'her', 'o', 'don', 'under', 'most', 'other', 'out', 'same', 'nor', 'up', 'll', 'during', 'from', 'too', 'whom', 'y', 'how', 'what', 'again', 'at', 'below', 'of', 'needn', \"shouldn't\", 'does', \"it's\", 'because', 'between', \"she's\", 'wasn', 'can', 'shan', 'who', 'all', 'more', 'for', 'not', \"won't\", 'when', 'into', 'did', 'myself', \"aren't\", 'hasn', 'your', 'very', 'didn', \"mightn't\", 'before', 'hadn', 'down', 'will', 'where', 'after', 'him', 'had', 'now', 'them', 'ain', 'while', 'was', 'their', 'were', 'have', 'by', 'its', 'on', 'she', 'above', 'should', 'being', 'against', 'through', \"haven't\", \"wouldn't\", \"you'll\", 'i', 'yourselves', 'are', 'a', 'than', 't', 'both', \"isn't\", 'theirs', 'any', 'shouldn', 'then', 'own', 'ourselves', \"don't\", \"mustn't\", 'we', \"couldn't\", 'those', 'and', 'which', 'been', 'herself', 'over', 'about', 'our', 'is', 'themselves', \"you'd\", \"hasn't\", 'has', 'they', \"should've\", 'here', 'his', 'yours', 'the', 'to', 're', \"wasn't\", 's', 'me', 'further', 'wouldn', 'hers', 'be', 'just', 'itself', 'an', 'am', 'weren', 'that', 'doing', 'this', 'isn', 'd', 'these', 'himself', 'but', 'or', \"that'll\", 'if', 'some', 'he', 'ma', 'so', \"needn't\", 'ours', 'my', 'each', 'why', \"doesn't\", 'haven', \"you're\", \"you've\", \"shan't\", 'yourself', 'such', 'until', 'having', 'doesn', 'you', 'as', \"weren't\", 'only', 've', \"hadn't\", 'mustn', 'in', 'with', 'it', 'won', 'there', \"didn't\", 'once'}\n"
     ]
    }
   ],
   "source": [
    "nltk_stopwords = set(stopwords.words('english'))\n",
    "print(nltk_stopwords)"
   ]
  },
  {
   "cell_type": "code",
   "execution_count": 146,
   "id": "f4ae7f75",
   "metadata": {},
   "outputs": [
    {
     "data": {
      "text/plain": [
       "179"
      ]
     },
     "execution_count": 146,
     "metadata": {},
     "output_type": "execute_result"
    }
   ],
   "source": [
    "len(nltk_stopwords)"
   ]
  },
  {
   "cell_type": "code",
   "execution_count": 147,
   "id": "3a8095da",
   "metadata": {},
   "outputs": [
    {
     "name": "stdout",
     "output_type": "stream",
     "text": [
      "{'fifteen', 'nobody', 'sometimes', 'her', 'however', 'anything', 'everywhere', 'most', 'whoever', 'much', 'thru', 'up', 'nor', 'inc', 'too', 'how', 'what', 'ever', 'at', 'put', 'of', 'hereupon', 'might', 'detail', 'thus', 'because', 'wherein', 'all', 'since', 'around', 'whole', 'toward', 'when', 'sincere', 'somehow', 'via', 'amoungst', 'sixty', 'de', 'least', 'thereupon', 'moreover', 'next', 'couldnt', 'describe', 'part', 'formerly', 'will', 'where', 'whether', 'him', 'whose', 'eight', 'ie', 'last', 'them', 'while', 'almost', 'was', 'their', 'none', 'by', 'become', 'yet', 'except', 'interest', 'above', 'she', 'find', 'still', 'something', 'six', 'being', 'sometime', 'against', 'elsewhere', 'through', 'rather', 'among', 'full', 'others', 'three', 'show', 'both', 'any', 'former', 'then', 'behind', 'own', 'towards', 'ourselves', 'herein', 'whereas', 'indeed', 'we', 'enough', 'cry', 'latterly', 'please', 'is', 'themselves', 'never', 'alone', 'they', 'co', 'his', 'us', 'becomes', 're', 'to', 'me', 'two', 'together', 'further', 'hers', 'one', 'found', 'itself', 'am', 'done', 'onto', 'this', 'but', 'beyond', 'either', 'etc', 'some', 'besides', 'he', 'without', 'whereupon', 'ours', 'my', 'along', 'upon', 'someone', 'amongst', 'thick', 'whence', 'such', 'whereby', 'amount', 'you', 'only', 'thin', 'back', 'serious', 'in', 'must', 'with', 'it', 'becoming', 'system', 'within', 'once', 'no', 'do', 'off', 'thereby', 'fifty', 'few', 'would', 'nothing', 'take', 'under', 'hence', 'seemed', 'other', 'out', 'same', 'noone', 'anywhere', 'beforehand', 'during', 'somewhere', 'from', 'whom', 'several', 'often', 'anyway', 'third', 'whatever', 'again', 'below', 'un', 'across', 'cannot', 'empty', 'between', 'latter', 'can', 'seems', 'fill', 'more', 'who', 'twenty', 'nevertheless', 'for', 'not', 'bottom', 'hereby', 'myself', 'nine', 'into', 'your', 'get', 'mostly', 'call', 'very', 'before', 'down', 'anyhow', 'whereafter', 'namely', 'top', 'everyone', 'after', 'now', 'had', 'eleven', 'else', 'five', 'thence', 'cant', 'have', 'four', 'were', 'seem', 'its', 'another', 'on', 'should', 'throughout', 'even', 'already', 'could', 'thereafter', 'i', 'bill', 'yourselves', 'forty', 'are', 'a', 'than', 'go', 'perhaps', 'therefore', 'give', 'mine', 'also', 'whither', 'move', 'keep', 'wherever', 'which', 'and', 'been', 'con', 'herself', 'those', 'over', 'about', 'our', 'every', 'front', 'beside', 'mill', 'first', 'nowhere', 'has', 'always', 'name', 'here', 'ten', 'afterwards', 'therein', 'everything', 'may', 'the', 'yours', 'twelve', 'hasnt', 'be', 'fire', 'an', 'meanwhile', 'became', 'that', 'made', 'these', 'himself', 'or', 'per', 'side', 'hundred', 'if', 'well', 'so', 'seeming', 'each', 'why', 'see', 'otherwise', 'yourself', 'neither', 'eg', 'due', 'until', 'though', 'anyone', 'less', 'as', 'although', 'whenever', 'ltd', 'there', 'many', 'hereafter'}\n"
     ]
    }
   ],
   "source": [
    "from sklearn.feature_extraction.text import ENGLISH_STOP_WORDS\n",
    "sklearn_stopwords = set(ENGLISH_STOP_WORDS)\n",
    "print(sklearn_stopwords)"
   ]
  },
  {
   "cell_type": "code",
   "execution_count": 148,
   "id": "cf4e095c",
   "metadata": {},
   "outputs": [
    {
     "data": {
      "text/plain": [
       "318"
      ]
     },
     "execution_count": 148,
     "metadata": {},
     "output_type": "execute_result"
    }
   ],
   "source": [
    "len(sklearn_stopwords)"
   ]
  },
  {
   "cell_type": "code",
   "execution_count": 149,
   "id": "c0b37185",
   "metadata": {},
   "outputs": [
    {
     "name": "stdout",
     "output_type": "stream",
     "text": [
      "{'off', 'do', 'no', 'few', 'her', 'under', 'most', 'other', 'out', 'same', 'nor', 'up', 'during', 'from', 'too', 'whom', 'how', 'what', 'again', 'at', 'below', 'of', 'because', 'between', 'can', 'who', 'all', 'more', 'not', 'for', 'when', 'into', 'myself', 'your', 'very', 'before', 'down', 'will', 'where', 'after', 'him', 'had', 'now', 'them', 'while', 'was', 'their', 'were', 'have', 'by', 'its', 'on', 'she', 'above', 'should', 'being', 'against', 'through', 'i', 'yourselves', 'are', 'a', 'than', 'both', 'any', 'then', 'own', 'ourselves', 'we', 'those', 'and', 'which', 'been', 'herself', 'over', 'about', 'our', 'is', 'themselves', 'has', 'they', 'here', 'his', 'yours', 'the', 'to', 're', 'me', 'further', 'hers', 'be', 'itself', 'an', 'am', 'that', 'this', 'these', 'himself', 'but', 'or', 'if', 'some', 'he', 'so', 'ours', 'my', 'each', 'why', 'yourself', 'such', 'until', 'you', 'as', 'only', 'in', 'with', 'it', 'there', 'once'}\n"
     ]
    }
   ],
   "source": [
    "# Find the common stopwords from NLTK & sklearn\n",
    "print(nltk_stopwords.intersection(sklearn_stopwords))"
   ]
  },
  {
   "cell_type": "code",
   "execution_count": 150,
   "id": "f46b31b6",
   "metadata": {},
   "outputs": [
    {
     "data": {
      "text/plain": [
       "119"
      ]
     },
     "execution_count": 150,
     "metadata": {},
     "output_type": "execute_result"
    }
   ],
   "source": [
    "len(nltk_stopwords.intersection(sklearn_stopwords))"
   ]
  },
  {
   "cell_type": "code",
   "execution_count": 151,
   "id": "4d244574",
   "metadata": {},
   "outputs": [],
   "source": [
    "# Combining the stopwords from sklearn & NLTK\n",
    "combined_stopwords = nltk_stopwords.union(sklearn_stopwords)"
   ]
  },
  {
   "cell_type": "code",
   "execution_count": 152,
   "id": "7c5cab13",
   "metadata": {},
   "outputs": [
    {
     "data": {
      "text/plain": [
       "378"
      ]
     },
     "execution_count": 152,
     "metadata": {},
     "output_type": "execute_result"
    }
   ],
   "source": [
    "len(combined_stopwords)"
   ]
  },
  {
   "cell_type": "code",
   "execution_count": 153,
   "id": "1434274a",
   "metadata": {},
   "outputs": [],
   "source": [
    "# Text Normalization: Stemming or Lemmatization (prefer)\n",
    "from nltk.stem import WordNetLemmatizer\n",
    "lemmatizer = WordNetLemmatizer()"
   ]
  },
  {
   "cell_type": "code",
   "execution_count": 154,
   "id": "adf51cf7",
   "metadata": {},
   "outputs": [
    {
     "data": {
      "text/plain": [
       "['Gain',\n",
       " 'Followers',\n",
       " 'RT',\n",
       " 'This',\n",
       " 'MUST',\n",
       " 'FOLLOW',\n",
       " 'ME',\n",
       " 'I',\n",
       " 'FOLLOW',\n",
       " 'BACK',\n",
       " 'Follow',\n",
       " 'everyone',\n",
       " 'who',\n",
       " 'rts',\n",
       " 'Gain',\n",
       " '#iphone',\n",
       " '#sougofollow',\n",
       " '#ff',\n",
       " 'i7si']"
      ]
     },
     "execution_count": 154,
     "metadata": {},
     "output_type": "execute_result"
    }
   ],
   "source": [
    "data['tweet'][63].split()"
   ]
  },
  {
   "cell_type": "code",
   "execution_count": 155,
   "id": "44aa4683",
   "metadata": {},
   "outputs": [
    {
     "data": {
      "text/plain": [
       "'gain follower rt this must follow me i follow back follow everyone who rts gain #iphone #sougofollow #ff i7si '"
      ]
     },
     "execution_count": 155,
     "metadata": {},
     "output_type": "execute_result"
    }
   ],
   "source": [
    "new_sent = ''\n",
    "for token in data['tweet'][63].split():\n",
    "    new_sent = new_sent + lemmatizer.lemmatize(token.lower()) + ' '\n",
    "\n",
    "new_sent    "
   ]
  },
  {
   "cell_type": "code",
   "execution_count": 156,
   "id": "cd8d70fc",
   "metadata": {},
   "outputs": [
    {
     "name": "stdout",
     "output_type": "stream",
     "text": [
      "Requirement already satisfied: contractions in /Users/vishalpatel/anaconda3/lib/python3.11/site-packages (0.1.73)\r\n",
      "Requirement already satisfied: textsearch>=0.0.21 in /Users/vishalpatel/anaconda3/lib/python3.11/site-packages (from contractions) (0.0.24)\r\n",
      "Requirement already satisfied: anyascii in /Users/vishalpatel/anaconda3/lib/python3.11/site-packages (from textsearch>=0.0.21->contractions) (0.3.2)\r\n",
      "Requirement already satisfied: pyahocorasick in /Users/vishalpatel/anaconda3/lib/python3.11/site-packages (from textsearch>=0.0.21->contractions) (2.1.0)\r\n"
     ]
    }
   ],
   "source": [
    "!pip install contractions"
   ]
  },
  {
   "cell_type": "code",
   "execution_count": 157,
   "id": "6ea94262",
   "metadata": {},
   "outputs": [
    {
     "data": {
      "text/plain": [
       "\"It's time for new wallpapers #phone #wallpapers #wall #screen #galaxy #samsung #app … https://www.instagram.com/p/BcsKTNNn51c/\""
      ]
     },
     "execution_count": 157,
     "metadata": {},
     "output_type": "execute_result"
    }
   ],
   "source": [
    "import contractions\n",
    "data['tweet'][24]"
   ]
  },
  {
   "cell_type": "code",
   "execution_count": 158,
   "id": "c8a417a5",
   "metadata": {},
   "outputs": [
    {
     "data": {
      "text/plain": [
       "'It is time for new wallpapers #phone #wallpapers #wall #screen #galaxy #samsung #app … https://www.instagram.com/p/BcsKTNNn51c/'"
      ]
     },
     "execution_count": 158,
     "metadata": {},
     "output_type": "execute_result"
    }
   ],
   "source": [
    "contractions.fix(data['tweet'][24])"
   ]
  },
  {
   "cell_type": "markdown",
   "id": "a00fd547",
   "metadata": {},
   "source": [
    "## Define the Cleaner Function & Apply"
   ]
  },
  {
   "cell_type": "code",
   "execution_count": 159,
   "id": "6bcdc3be",
   "metadata": {},
   "outputs": [],
   "source": [
    "import re"
   ]
  },
  {
   "cell_type": "code",
   "execution_count": 160,
   "id": "8be4ed4b",
   "metadata": {},
   "outputs": [],
   "source": [
    "def tweet_cleaner_without_stopwords(text):\n",
    "    new_text = re.sub(r\"'s\\b\", \" is\", text)\n",
    "    new_text = re.sub(\"#\", \"\", new_text)\n",
    "    new_text = re.sub(\"@[A-Za-z0-9]+\", \"\", new_text)\n",
    "    new_text = re.sub(r\"http\\S+\", \"\", new_text)\n",
    "    new_text = contractions.fix(new_text)    \n",
    "    new_text = re.sub(r\"[^a-zA-Z]\", \" \", new_text)    \n",
    "    new_text = new_text.lower().strip()\n",
    "    \n",
    "    cleaned_text = ''\n",
    "    for token in new_text.split():\n",
    "        cleaned_text = cleaned_text + lemmatizer.lemmatize(token) + ' '\n",
    "    \n",
    "    return cleaned_text"
   ]
  },
  {
   "cell_type": "code",
   "execution_count": 161,
   "id": "5f490cc9",
   "metadata": {},
   "outputs": [],
   "source": [
    "cleaned_tweets = []  # list of cleaned tweets\n",
    "for twt in data['tweet']:\n",
    "    cleaned_tweets.append(tweet_cleaner_without_stopwords(twt))"
   ]
  },
  {
   "cell_type": "code",
   "execution_count": 162,
   "id": "d0ade359",
   "metadata": {},
   "outputs": [
    {
     "data": {
      "text/plain": [
       "['fingerprint pregnancy test android apps beautiful cute health igers iphoneonly iphonesia iphone ',\n",
       " 'finally a transparant silicon case thanks to my uncle yay sony xperia s sonyexperias ',\n",
       " 'we love this would you go talk makememories unplug relax iphone smartphone wifi connect ',\n",
       " 'i am wired i know i am george i wa made that way iphone cute daventry home ',\n",
       " 'what amazing service apple will not even talk to me about a question i have unless i pay them for their stupid support ']"
      ]
     },
     "execution_count": 162,
     "metadata": {},
     "output_type": "execute_result"
    }
   ],
   "source": [
    "cleaned_tweets[:5]    "
   ]
  },
  {
   "cell_type": "code",
   "execution_count": 163,
   "id": "c9a4d13f",
   "metadata": {},
   "outputs": [
    {
     "data": {
      "text/plain": [
       "'it is time for new wallpaper phone wallpaper wall screen galaxy samsung app '"
      ]
     },
     "execution_count": 163,
     "metadata": {},
     "output_type": "execute_result"
    }
   ],
   "source": [
    "cleaned_tweets[24]"
   ]
  },
  {
   "cell_type": "code",
   "execution_count": 164,
   "id": "be51e00a",
   "metadata": {},
   "outputs": [
    {
     "data": {
      "text/plain": [
       "'#Apple Bunch if Crooks Refused to repair/replace my beats wireless. Problem rubber on mic coming off microphones stopped working. Said warranty was void because ear piece looked chewed. Bullshit. I don’t have any animals and I would chew on anything I put in my ear. pic.twitter.com/GfgvquEpuC'"
      ]
     },
     "execution_count": 164,
     "metadata": {},
     "output_type": "execute_result"
    }
   ],
   "source": [
    "data['tweet'][1500]"
   ]
  },
  {
   "cell_type": "code",
   "execution_count": 165,
   "id": "6bc838c8",
   "metadata": {},
   "outputs": [
    {
     "data": {
      "text/plain": [
       "['#Apple',\n",
       " 'Bunch',\n",
       " 'if',\n",
       " 'Crooks',\n",
       " 'Refused',\n",
       " 'to',\n",
       " 'repair/replace',\n",
       " 'my',\n",
       " 'beats',\n",
       " 'wireless.',\n",
       " 'Problem',\n",
       " 'rubber',\n",
       " 'on',\n",
       " 'mic',\n",
       " 'coming',\n",
       " 'off',\n",
       " 'microphones',\n",
       " 'stopped',\n",
       " 'working.',\n",
       " 'Said',\n",
       " 'warranty',\n",
       " 'was',\n",
       " 'void',\n",
       " 'because',\n",
       " 'ear',\n",
       " 'piece',\n",
       " 'looked',\n",
       " 'chewed.',\n",
       " 'Bullshit.',\n",
       " 'I',\n",
       " 'don’t',\n",
       " 'have',\n",
       " 'any',\n",
       " 'animals',\n",
       " 'and',\n",
       " 'I',\n",
       " 'would',\n",
       " 'chew',\n",
       " 'on',\n",
       " 'anything',\n",
       " 'I',\n",
       " 'put',\n",
       " 'in',\n",
       " 'my',\n",
       " 'ear.',\n",
       " 'pic.twitter.com/GfgvquEpuC']"
      ]
     },
     "execution_count": 165,
     "metadata": {},
     "output_type": "execute_result"
    }
   ],
   "source": [
    "data['tweet'][1500].split()"
   ]
  },
  {
   "cell_type": "code",
   "execution_count": 166,
   "id": "6b35606a",
   "metadata": {},
   "outputs": [
    {
     "data": {
      "text/plain": [
       "'apple bunch if crook refused to repair replace my beat wireless problem rubber on mic coming off microphone stopped working said warranty wa void because ear piece looked chewed bullshit i do not have any animal and i would chew on anything i put in my ear pic twitter com gfgvquepuc '"
      ]
     },
     "execution_count": 166,
     "metadata": {},
     "output_type": "execute_result"
    }
   ],
   "source": [
    "cleaned_tweets[1500]"
   ]
  },
  {
   "cell_type": "code",
   "execution_count": 167,
   "id": "035c3fde",
   "metadata": {},
   "outputs": [],
   "source": [
    "# tweet['tweet'].apply(lambda x: tweet_cleaner(x))"
   ]
  },
  {
   "cell_type": "code",
   "execution_count": 168,
   "id": "578f9e75",
   "metadata": {},
   "outputs": [
    {
     "data": {
      "text/html": [
       "<div>\n",
       "<style scoped>\n",
       "    .dataframe tbody tr th:only-of-type {\n",
       "        vertical-align: middle;\n",
       "    }\n",
       "\n",
       "    .dataframe tbody tr th {\n",
       "        vertical-align: top;\n",
       "    }\n",
       "\n",
       "    .dataframe thead th {\n",
       "        text-align: right;\n",
       "    }\n",
       "</style>\n",
       "<table border=\"1\" class=\"dataframe\">\n",
       "  <thead>\n",
       "    <tr style=\"text-align: right;\">\n",
       "      <th></th>\n",
       "      <th>id</th>\n",
       "      <th>label</th>\n",
       "      <th>tweet</th>\n",
       "      <th>cleaned_tweets_w/o_SW</th>\n",
       "    </tr>\n",
       "  </thead>\n",
       "  <tbody>\n",
       "    <tr>\n",
       "      <th>0</th>\n",
       "      <td>1</td>\n",
       "      <td>0</td>\n",
       "      <td>#fingerprint #Pregnancy Test https://goo.gl/h1MfQV #android #apps #beautiful #cute #health #igers #iphoneonly #iphonesia #iphone</td>\n",
       "      <td>fingerprint pregnancy test android apps beautiful cute health igers iphoneonly iphonesia iphone</td>\n",
       "    </tr>\n",
       "    <tr>\n",
       "      <th>1</th>\n",
       "      <td>2</td>\n",
       "      <td>0</td>\n",
       "      <td>Finally a transparant silicon case ^^ Thanks to my uncle :) #yay #Sony #Xperia #S #sonyexperias… http://instagram.com/p/YGEt5JC6JM/</td>\n",
       "      <td>finally a transparant silicon case thanks to my uncle yay sony xperia s sonyexperias</td>\n",
       "    </tr>\n",
       "    <tr>\n",
       "      <th>2</th>\n",
       "      <td>3</td>\n",
       "      <td>0</td>\n",
       "      <td>We love this! Would you go? #talk #makememories #unplug #relax #iphone #smartphone #wifi #connect... http://fb.me/6N3LsUpCu</td>\n",
       "      <td>we love this would you go talk makememories unplug relax iphone smartphone wifi connect</td>\n",
       "    </tr>\n",
       "    <tr>\n",
       "      <th>3</th>\n",
       "      <td>4</td>\n",
       "      <td>0</td>\n",
       "      <td>I'm wired I know I'm George I was made that way ;) #iphone #cute #daventry #home http://instagr.am/p/Li_5_ujS4k/</td>\n",
       "      <td>i am wired i know i am george i wa made that way iphone cute daventry home</td>\n",
       "    </tr>\n",
       "    <tr>\n",
       "      <th>4</th>\n",
       "      <td>5</td>\n",
       "      <td>1</td>\n",
       "      <td>What amazing service! Apple won't even talk to me about a question I have unless I pay them $19.95 for their stupid support!</td>\n",
       "      <td>what amazing service apple will not even talk to me about a question i have unless i pay them for their stupid support</td>\n",
       "    </tr>\n",
       "  </tbody>\n",
       "</table>\n",
       "</div>"
      ],
      "text/plain": [
       "   id  label  \\\n",
       "0   1      0   \n",
       "1   2      0   \n",
       "2   3      0   \n",
       "3   4      0   \n",
       "4   5      1   \n",
       "\n",
       "                                                                                                                                 tweet  \\\n",
       "0     #fingerprint #Pregnancy Test https://goo.gl/h1MfQV #android #apps #beautiful #cute #health #igers #iphoneonly #iphonesia #iphone   \n",
       "1  Finally a transparant silicon case ^^ Thanks to my uncle :) #yay #Sony #Xperia #S #sonyexperias… http://instagram.com/p/YGEt5JC6JM/   \n",
       "2          We love this! Would you go? #talk #makememories #unplug #relax #iphone #smartphone #wifi #connect... http://fb.me/6N3LsUpCu   \n",
       "3                     I'm wired I know I'm George I was made that way ;) #iphone #cute #daventry #home http://instagr.am/p/Li_5_ujS4k/   \n",
       "4         What amazing service! Apple won't even talk to me about a question I have unless I pay them $19.95 for their stupid support!   \n",
       "\n",
       "                                                                                                     cleaned_tweets_w/o_SW  \n",
       "0                         fingerprint pregnancy test android apps beautiful cute health igers iphoneonly iphonesia iphone   \n",
       "1                                    finally a transparant silicon case thanks to my uncle yay sony xperia s sonyexperias   \n",
       "2                                 we love this would you go talk makememories unplug relax iphone smartphone wifi connect   \n",
       "3                                              i am wired i know i am george i wa made that way iphone cute daventry home   \n",
       "4  what amazing service apple will not even talk to me about a question i have unless i pay them for their stupid support   "
      ]
     },
     "execution_count": 168,
     "metadata": {},
     "output_type": "execute_result"
    }
   ],
   "source": [
    "data['cleaned_tweets_w/o_SW'] = cleaned_tweets\n",
    "data.head()"
   ]
  },
  {
   "cell_type": "markdown",
   "id": "3453f45e",
   "metadata": {},
   "source": [
    "# 3. Data Visualization\n",
    "\n",
    "Plot the top 25 most common words in this tweets dataset"
   ]
  },
  {
   "cell_type": "code",
   "execution_count": 169,
   "id": "ad7f388f",
   "metadata": {},
   "outputs": [
    {
     "name": "stdout",
     "output_type": "stream",
     "text": [
      "['#fingerprint', '#Pregnancy', 'Test', 'https://goo.gl/h1MfQV', '#android', '#apps', '#beautiful', '#cute', '#health', '#igers', '#iphoneonly', '#iphonesia', '#iphone', 'Finally', 'a', 'transparant', 'silicon', 'case', '^^', 'Thanks', 'to', 'my', 'uncle', ':)', '#yay', '#Sony', '#Xperia', '#S', '#sonyexperias…', 'http://instagram.com/p/YGEt5JC6JM/', 'We', 'love', 'this!', 'Would', 'you', 'go?', '#talk', '#makememories', '#unplug', '#relax', '#iphone', '#smartphone', '#wifi', '#connect...', 'http://fb.me/6N3LsUpCu', \"I'm\", 'wired', 'I', 'know', \"I'm\"]\n"
     ]
    },
    {
     "data": {
      "text/plain": [
       "34348"
      ]
     },
     "execution_count": 169,
     "metadata": {},
     "output_type": "execute_result"
    }
   ],
   "source": [
    "# Write a code to collect all the words from all the tweets into a single list\n",
    "all_words = []\n",
    "for t in data['tweet']:\n",
    "    all_words.extend(t.split())\n",
    "\n",
    "print(all_words[:50])\n",
    "len(set(all_words)) # this is the number of unique words in the list"
   ]
  },
  {
   "cell_type": "code",
   "execution_count": 170,
   "id": "cb70565b",
   "metadata": {},
   "outputs": [],
   "source": [
    "import matplotlib.pyplot as plt"
   ]
  },
  {
   "cell_type": "code",
   "execution_count": 171,
   "id": "2f5bd612",
   "metadata": {},
   "outputs": [
    {
     "data": {
      "image/png": "[encoded data removed]",
      "text/plain": [
       "<Figure size 1200x500 with 1 Axes>"
      ]
     },
     "metadata": {},
     "output_type": "display_data"
    }
   ],
   "source": [
    "# Frequency Distribution\n",
    "freq_dist = nltk.FreqDist(all_words)\n",
    "\n",
    "plt.figure(figsize=(12,5))\n",
    "plt.title('Top 25 most common words')\n",
    "plt.xticks(fontsize=15)\n",
    "\n",
    "freq_dist.plot(25, cumulative=False)\n",
    "\n",
    "plt.show()\n"
   ]
  },
  {
   "cell_type": "markdown",
   "id": "81bfdcfd",
   "metadata": {},
   "source": [
    "## Plot for Cleaned Tweets"
   ]
  },
  {
   "cell_type": "code",
   "execution_count": 172,
   "id": "b8c83f18",
   "metadata": {},
   "outputs": [
    {
     "name": "stdout",
     "output_type": "stream",
     "text": [
      "['fingerprint', 'pregnancy', 'test', 'android', 'apps', 'beautiful', 'cute', 'health', 'igers', 'iphoneonly', 'iphonesia', 'iphone', 'finally', 'a', 'transparant', 'silicon', 'case', 'thanks', 'to', 'my', 'uncle', 'yay', 'sony', 'xperia', 's', 'sonyexperias', 'we', 'love', 'this', 'would', 'you', 'go', 'talk', 'makememories', 'unplug', 'relax', 'iphone', 'smartphone', 'wifi', 'connect', 'i', 'am', 'wired', 'i', 'know', 'i', 'am', 'george', 'i', 'wa']\n"
     ]
    }
   ],
   "source": [
    "# Write the code for plotting the cleaned tweets\n",
    "all_words = []\n",
    "for t in data['cleaned_tweets_w/o_SW']:\n",
    "    all_words.extend(t.split())\n",
    "\n",
    "print(all_words[:50])"
   ]
  },
  {
   "cell_type": "code",
   "execution_count": 173,
   "id": "c3317753",
   "metadata": {},
   "outputs": [
    {
     "data": {
      "text/plain": [
       "15981"
      ]
     },
     "execution_count": 173,
     "metadata": {},
     "output_type": "execute_result"
    }
   ],
   "source": [
    "len(set(all_words)) # this is the number of unique words in the list"
   ]
  },
  {
   "cell_type": "code",
   "execution_count": 174,
   "id": "e170ffd8",
   "metadata": {},
   "outputs": [
    {
     "data": {
      "image/png": "[encoded data removed]",
      "text/plain": [
       "<Figure size 1200x500 with 1 Axes>"
      ]
     },
     "metadata": {},
     "output_type": "display_data"
    }
   ],
   "source": [
    "# Frequency Distribution\n",
    "freq_dist = nltk.FreqDist(all_words)\n",
    "\n",
    "plt.figure(figsize=(12,5))\n",
    "plt.title('Top 25 most common words')\n",
    "plt.xticks(fontsize=15)\n",
    "\n",
    "freq_dist.plot(25, cumulative=False)\n",
    "\n",
    "plt.show()\n"
   ]
  },
  {
   "cell_type": "markdown",
   "id": "f961f7f9",
   "metadata": {},
   "source": [
    "## DV After applying Stop words"
   ]
  },
  {
   "cell_type": "code",
   "execution_count": 175,
   "id": "271f2007",
   "metadata": {},
   "outputs": [
    {
     "data": {
      "text/plain": [
       "set"
      ]
     },
     "execution_count": 175,
     "metadata": {},
     "output_type": "execute_result"
    }
   ],
   "source": [
    "type(combined_stopwords)"
   ]
  },
  {
   "cell_type": "code",
   "execution_count": 176,
   "id": "ddf4f2e4",
   "metadata": {},
   "outputs": [],
   "source": [
    "def tweet_cleaner_with_stopwords(text):\n",
    "    new_text = re.sub(r\"'s\\b\", \" is\", text)\n",
    "    new_text = re.sub(\"#\", \"\", new_text)\n",
    "    new_text = re.sub(\"@[A-Za-z0-9]+\", \"\", new_text)\n",
    "    new_text = re.sub(r\"http\\S+\", \"\", new_text)\n",
    "    new_text = contractions.fix(new_text)    \n",
    "    new_text = re.sub(r\"[^a-zA-Z]\", \" \", new_text)    \n",
    "    new_text = new_text.lower().strip()\n",
    "    \n",
    "    new_text = [token for token in new_text.split() if token not in combined_stopwords]\n",
    "    \n",
    "    new_text = [token for token in new_text if len(token)>2]\n",
    "    \n",
    "    cleaned_text = ''\n",
    "    for token in new_text:\n",
    "        cleaned_text = cleaned_text + lemmatizer.lemmatize(token) + ' '\n",
    "    \n",
    "    return cleaned_text"
   ]
  },
  {
   "cell_type": "code",
   "execution_count": 177,
   "id": "447a63d8",
   "metadata": {},
   "outputs": [
    {
     "name": "stdout",
     "output_type": "stream",
     "text": [
      "['fingerprint pregnancy test android apps beautiful cute health igers iphoneonly iphonesia iphone ', 'finally transparant silicon case thanks uncle yay sony xperia sonyexperias ', 'love talk makememories unplug relax iphone smartphone wifi connect ', 'wired know george way iphone cute daventry home ', 'amazing service apple talk question unless pay stupid support ', 'iphone software update fucked phone big time stupid iphones ', 'happy instapic instadaily sony xperia xperiaz ', 'new type charger cable bay amazon etsy new year rob cross toby young evemun mcmafia taylor spectre newyear starting recipe technology samsunggalaxys iphonex pic twitter com pjiwq wtc ', 'bout shopping listening music iphone justme music likeforlike followforfollow ', 'photo fun selfie pool water sony camera picoftheday sun instagood boy cute outdoor ']\n"
     ]
    }
   ],
   "source": [
    "cleaned_tweets = list(data['tweet'].apply(tweet_cleaner_with_stopwords))\n",
    "print(cleaned_tweets[:10])"
   ]
  },
  {
   "cell_type": "code",
   "execution_count": 178,
   "id": "08f114df",
   "metadata": {},
   "outputs": [
    {
     "data": {
      "text/plain": [
       "Index(['id', 'label', 'tweet', 'cleaned_tweets_w/o_SW'], dtype='object')"
      ]
     },
     "execution_count": 178,
     "metadata": {},
     "output_type": "execute_result"
    }
   ],
   "source": [
    "data.columns"
   ]
  },
  {
   "cell_type": "code",
   "execution_count": 179,
   "id": "15ba023d",
   "metadata": {},
   "outputs": [
    {
     "data": {
      "text/html": [
       "<div>\n",
       "<style scoped>\n",
       "    .dataframe tbody tr th:only-of-type {\n",
       "        vertical-align: middle;\n",
       "    }\n",
       "\n",
       "    .dataframe tbody tr th {\n",
       "        vertical-align: top;\n",
       "    }\n",
       "\n",
       "    .dataframe thead th {\n",
       "        text-align: right;\n",
       "    }\n",
       "</style>\n",
       "<table border=\"1\" class=\"dataframe\">\n",
       "  <thead>\n",
       "    <tr style=\"text-align: right;\">\n",
       "      <th></th>\n",
       "      <th>id</th>\n",
       "      <th>label</th>\n",
       "      <th>tweet</th>\n",
       "      <th>cleaned_tweets_w/o_SW</th>\n",
       "      <th>cleaned_tweets_with_SW</th>\n",
       "    </tr>\n",
       "  </thead>\n",
       "  <tbody>\n",
       "    <tr>\n",
       "      <th>0</th>\n",
       "      <td>1</td>\n",
       "      <td>0</td>\n",
       "      <td>#fingerprint #Pregnancy Test https://goo.gl/h1MfQV #android #apps #beautiful #cute #health #igers #iphoneonly #iphonesia #iphone</td>\n",
       "      <td>fingerprint pregnancy test android apps beautiful cute health igers iphoneonly iphonesia iphone</td>\n",
       "      <td>fingerprint pregnancy test android apps beautiful cute health igers iphoneonly iphonesia iphone</td>\n",
       "    </tr>\n",
       "    <tr>\n",
       "      <th>1</th>\n",
       "      <td>2</td>\n",
       "      <td>0</td>\n",
       "      <td>Finally a transparant silicon case ^^ Thanks to my uncle :) #yay #Sony #Xperia #S #sonyexperias… http://instagram.com/p/YGEt5JC6JM/</td>\n",
       "      <td>finally a transparant silicon case thanks to my uncle yay sony xperia s sonyexperias</td>\n",
       "      <td>finally transparant silicon case thanks uncle yay sony xperia sonyexperias</td>\n",
       "    </tr>\n",
       "    <tr>\n",
       "      <th>2</th>\n",
       "      <td>3</td>\n",
       "      <td>0</td>\n",
       "      <td>We love this! Would you go? #talk #makememories #unplug #relax #iphone #smartphone #wifi #connect... http://fb.me/6N3LsUpCu</td>\n",
       "      <td>we love this would you go talk makememories unplug relax iphone smartphone wifi connect</td>\n",
       "      <td>love talk makememories unplug relax iphone smartphone wifi connect</td>\n",
       "    </tr>\n",
       "    <tr>\n",
       "      <th>3</th>\n",
       "      <td>4</td>\n",
       "      <td>0</td>\n",
       "      <td>I'm wired I know I'm George I was made that way ;) #iphone #cute #daventry #home http://instagr.am/p/Li_5_ujS4k/</td>\n",
       "      <td>i am wired i know i am george i wa made that way iphone cute daventry home</td>\n",
       "      <td>wired know george way iphone cute daventry home</td>\n",
       "    </tr>\n",
       "    <tr>\n",
       "      <th>4</th>\n",
       "      <td>5</td>\n",
       "      <td>1</td>\n",
       "      <td>What amazing service! Apple won't even talk to me about a question I have unless I pay them $19.95 for their stupid support!</td>\n",
       "      <td>what amazing service apple will not even talk to me about a question i have unless i pay them for their stupid support</td>\n",
       "      <td>amazing service apple talk question unless pay stupid support</td>\n",
       "    </tr>\n",
       "  </tbody>\n",
       "</table>\n",
       "</div>"
      ],
      "text/plain": [
       "   id  label  \\\n",
       "0   1      0   \n",
       "1   2      0   \n",
       "2   3      0   \n",
       "3   4      0   \n",
       "4   5      1   \n",
       "\n",
       "                                                                                                                                 tweet  \\\n",
       "0     #fingerprint #Pregnancy Test https://goo.gl/h1MfQV #android #apps #beautiful #cute #health #igers #iphoneonly #iphonesia #iphone   \n",
       "1  Finally a transparant silicon case ^^ Thanks to my uncle :) #yay #Sony #Xperia #S #sonyexperias… http://instagram.com/p/YGEt5JC6JM/   \n",
       "2          We love this! Would you go? #talk #makememories #unplug #relax #iphone #smartphone #wifi #connect... http://fb.me/6N3LsUpCu   \n",
       "3                     I'm wired I know I'm George I was made that way ;) #iphone #cute #daventry #home http://instagr.am/p/Li_5_ujS4k/   \n",
       "4         What amazing service! Apple won't even talk to me about a question I have unless I pay them $19.95 for their stupid support!   \n",
       "\n",
       "                                                                                                     cleaned_tweets_w/o_SW  \\\n",
       "0                         fingerprint pregnancy test android apps beautiful cute health igers iphoneonly iphonesia iphone    \n",
       "1                                    finally a transparant silicon case thanks to my uncle yay sony xperia s sonyexperias    \n",
       "2                                 we love this would you go talk makememories unplug relax iphone smartphone wifi connect    \n",
       "3                                              i am wired i know i am george i wa made that way iphone cute daventry home    \n",
       "4  what amazing service apple will not even talk to me about a question i have unless i pay them for their stupid support    \n",
       "\n",
       "                                                                             cleaned_tweets_with_SW  \n",
       "0  fingerprint pregnancy test android apps beautiful cute health igers iphoneonly iphonesia iphone   \n",
       "1                       finally transparant silicon case thanks uncle yay sony xperia sonyexperias   \n",
       "2                               love talk makememories unplug relax iphone smartphone wifi connect   \n",
       "3                                                  wired know george way iphone cute daventry home   \n",
       "4                                    amazing service apple talk question unless pay stupid support   "
      ]
     },
     "execution_count": 179,
     "metadata": {},
     "output_type": "execute_result"
    }
   ],
   "source": [
    "data['cleaned_tweets_with_SW'] = cleaned_tweets\n",
    "data.head()"
   ]
  },
  {
   "cell_type": "code",
   "execution_count": 180,
   "id": "4a9cd5ff",
   "metadata": {},
   "outputs": [
    {
     "name": "stdout",
     "output_type": "stream",
     "text": [
      "['fingerprint', 'pregnancy', 'test', 'android', 'apps', 'beautiful', 'cute', 'health', 'igers', 'iphoneonly', 'iphonesia', 'iphone', 'finally', 'transparant', 'silicon', 'case', 'thanks', 'uncle', 'yay', 'sony', 'xperia', 'sonyexperias', 'love', 'talk', 'makememories', 'unplug', 'relax', 'iphone', 'smartphone', 'wifi', 'connect', 'wired', 'know', 'george', 'way', 'iphone', 'cute', 'daventry', 'home', 'amazing', 'service', 'apple', 'talk', 'question', 'unless', 'pay', 'stupid', 'support', 'iphone', 'software']\n"
     ]
    },
    {
     "data": {
      "image/png": "[encoded data removed]",
      "text/plain": [
       "<Figure size 1200x500 with 1 Axes>"
      ]
     },
     "metadata": {},
     "output_type": "display_data"
    }
   ],
   "source": [
    "all_words = []\n",
    "for t in data['cleaned_tweets_with_SW']:\n",
    "    all_words.extend(t.split())\n",
    "\n",
    "print(all_words[:50])\n",
    "\n",
    "# Frequency Distribution\n",
    "freq_dist = nltk.FreqDist(all_words)\n",
    "\n",
    "plt.figure(figsize=(12,5))\n",
    "plt.title('Top 25 most common words')\n",
    "plt.xticks(fontsize=15)\n",
    "\n",
    "freq_dist.plot(25, cumulative=False)\n",
    "\n",
    "plt.show()"
   ]
  },
  {
   "cell_type": "code",
   "execution_count": 181,
   "id": "3c403194",
   "metadata": {},
   "outputs": [],
   "source": [
    "domain_stopwords = ['phone', 'mobile', 'twitter', 'rt', 'com', 'follow']\n",
    "final_stopwords = domain_stopwords + list(combined_stopwords)"
   ]
  },
  {
   "cell_type": "code",
   "execution_count": 182,
   "id": "37b2ed4b",
   "metadata": {},
   "outputs": [],
   "source": [
    "# HW: re-do the cleaner function to include final_stopwords\n",
    "# and re-plot and see what more come up!"
   ]
  },
  {
   "cell_type": "code",
   "execution_count": 183,
   "id": "5cdc409a",
   "metadata": {},
   "outputs": [
    {
     "data": {
      "text/html": [
       "<div>\n",
       "<style scoped>\n",
       "    .dataframe tbody tr th:only-of-type {\n",
       "        vertical-align: middle;\n",
       "    }\n",
       "\n",
       "    .dataframe tbody tr th {\n",
       "        vertical-align: top;\n",
       "    }\n",
       "\n",
       "    .dataframe thead th {\n",
       "        text-align: right;\n",
       "    }\n",
       "</style>\n",
       "<table border=\"1\" class=\"dataframe\">\n",
       "  <thead>\n",
       "    <tr style=\"text-align: right;\">\n",
       "      <th></th>\n",
       "      <th>id</th>\n",
       "      <th>label</th>\n",
       "      <th>tweet</th>\n",
       "      <th>cleaned_tweets_w/o_SW</th>\n",
       "      <th>cleaned_tweets_with_SW</th>\n",
       "    </tr>\n",
       "  </thead>\n",
       "  <tbody>\n",
       "    <tr>\n",
       "      <th>0</th>\n",
       "      <td>1</td>\n",
       "      <td>0</td>\n",
       "      <td>#fingerprint #Pregnancy Test https://goo.gl/h1MfQV #android #apps #beautiful #cute #health #igers #iphoneonly #iphonesia #iphone</td>\n",
       "      <td>fingerprint pregnancy test android apps beautiful cute health igers iphoneonly iphonesia iphone</td>\n",
       "      <td>fingerprint pregnancy test android apps beautiful cute health igers iphoneonly iphonesia iphone</td>\n",
       "    </tr>\n",
       "    <tr>\n",
       "      <th>1</th>\n",
       "      <td>2</td>\n",
       "      <td>0</td>\n",
       "      <td>Finally a transparant silicon case ^^ Thanks to my uncle :) #yay #Sony #Xperia #S #sonyexperias… http://instagram.com/p/YGEt5JC6JM/</td>\n",
       "      <td>finally a transparant silicon case thanks to my uncle yay sony xperia s sonyexperias</td>\n",
       "      <td>finally transparant silicon case thanks uncle yay sony xperia sonyexperias</td>\n",
       "    </tr>\n",
       "    <tr>\n",
       "      <th>2</th>\n",
       "      <td>3</td>\n",
       "      <td>0</td>\n",
       "      <td>We love this! Would you go? #talk #makememories #unplug #relax #iphone #smartphone #wifi #connect... http://fb.me/6N3LsUpCu</td>\n",
       "      <td>we love this would you go talk makememories unplug relax iphone smartphone wifi connect</td>\n",
       "      <td>love talk makememories unplug relax iphone smartphone wifi connect</td>\n",
       "    </tr>\n",
       "    <tr>\n",
       "      <th>3</th>\n",
       "      <td>4</td>\n",
       "      <td>0</td>\n",
       "      <td>I'm wired I know I'm George I was made that way ;) #iphone #cute #daventry #home http://instagr.am/p/Li_5_ujS4k/</td>\n",
       "      <td>i am wired i know i am george i wa made that way iphone cute daventry home</td>\n",
       "      <td>wired know george way iphone cute daventry home</td>\n",
       "    </tr>\n",
       "    <tr>\n",
       "      <th>4</th>\n",
       "      <td>5</td>\n",
       "      <td>1</td>\n",
       "      <td>What amazing service! Apple won't even talk to me about a question I have unless I pay them $19.95 for their stupid support!</td>\n",
       "      <td>what amazing service apple will not even talk to me about a question i have unless i pay them for their stupid support</td>\n",
       "      <td>amazing service apple talk question unless pay stupid support</td>\n",
       "    </tr>\n",
       "  </tbody>\n",
       "</table>\n",
       "</div>"
      ],
      "text/plain": [
       "   id  label  \\\n",
       "0   1      0   \n",
       "1   2      0   \n",
       "2   3      0   \n",
       "3   4      0   \n",
       "4   5      1   \n",
       "\n",
       "                                                                                                                                 tweet  \\\n",
       "0     #fingerprint #Pregnancy Test https://goo.gl/h1MfQV #android #apps #beautiful #cute #health #igers #iphoneonly #iphonesia #iphone   \n",
       "1  Finally a transparant silicon case ^^ Thanks to my uncle :) #yay #Sony #Xperia #S #sonyexperias… http://instagram.com/p/YGEt5JC6JM/   \n",
       "2          We love this! Would you go? #talk #makememories #unplug #relax #iphone #smartphone #wifi #connect... http://fb.me/6N3LsUpCu   \n",
       "3                     I'm wired I know I'm George I was made that way ;) #iphone #cute #daventry #home http://instagr.am/p/Li_5_ujS4k/   \n",
       "4         What amazing service! Apple won't even talk to me about a question I have unless I pay them $19.95 for their stupid support!   \n",
       "\n",
       "                                                                                                     cleaned_tweets_w/o_SW  \\\n",
       "0                         fingerprint pregnancy test android apps beautiful cute health igers iphoneonly iphonesia iphone    \n",
       "1                                    finally a transparant silicon case thanks to my uncle yay sony xperia s sonyexperias    \n",
       "2                                 we love this would you go talk makememories unplug relax iphone smartphone wifi connect    \n",
       "3                                              i am wired i know i am george i wa made that way iphone cute daventry home    \n",
       "4  what amazing service apple will not even talk to me about a question i have unless i pay them for their stupid support    \n",
       "\n",
       "                                                                             cleaned_tweets_with_SW  \n",
       "0  fingerprint pregnancy test android apps beautiful cute health igers iphoneonly iphonesia iphone   \n",
       "1                       finally transparant silicon case thanks uncle yay sony xperia sonyexperias   \n",
       "2                               love talk makememories unplug relax iphone smartphone wifi connect   \n",
       "3                                                  wired know george way iphone cute daventry home   \n",
       "4                                    amazing service apple talk question unless pay stupid support   "
      ]
     },
     "execution_count": 183,
     "metadata": {},
     "output_type": "execute_result"
    }
   ],
   "source": [
    "data.head()"
   ]
  },
  {
   "cell_type": "code",
   "execution_count": null,
   "id": "c84a7724",
   "metadata": {},
   "outputs": [],
   "source": []
  },
  {
   "cell_type": "markdown",
   "id": "9e67d67d",
   "metadata": {},
   "source": [
    "# 4. Bag of Words Model (Feature Extraction)\n",
    "\n",
    "- Countvectorizer\n",
    "- TF-IDF Vectorizer"
   ]
  },
  {
   "cell_type": "code",
   "execution_count": 184,
   "id": "648429e5",
   "metadata": {},
   "outputs": [
    {
     "data": {
      "text/plain": [
       "(7920, 5)"
      ]
     },
     "execution_count": 184,
     "metadata": {},
     "output_type": "execute_result"
    }
   ],
   "source": [
    "data.shape"
   ]
  },
  {
   "cell_type": "code",
   "execution_count": 185,
   "id": "5ca6d51a",
   "metadata": {},
   "outputs": [],
   "source": [
    "from sklearn.feature_extraction.text import CountVectorizer\n",
    "\n",
    "CV = CountVectorizer()\n",
    "CV_features = CV.fit_transform(data['cleaned_tweets_w/o_SW'])\n"
   ]
  },
  {
   "cell_type": "code",
   "execution_count": 186,
   "id": "00eed834",
   "metadata": {},
   "outputs": [
    {
     "data": {
      "text/plain": [
       "(7920, 15955)"
      ]
     },
     "execution_count": 186,
     "metadata": {},
     "output_type": "execute_result"
    }
   ],
   "source": [
    "CV_features.shape"
   ]
  },
  {
   "cell_type": "code",
   "execution_count": 187,
   "id": "6dda76be",
   "metadata": {},
   "outputs": [
    {
     "data": {
      "text/plain": [
       "<1x15955 sparse matrix of type '<class 'numpy.int64'>'\n",
       "\twith 12 stored elements in Compressed Sparse Row format>"
      ]
     },
     "execution_count": 187,
     "metadata": {},
     "output_type": "execute_result"
    }
   ],
   "source": [
    "CV_features[0]"
   ]
  },
  {
   "cell_type": "code",
   "execution_count": 188,
   "id": "d1c52ba6",
   "metadata": {},
   "outputs": [],
   "source": [
    "# df = data.copy()\n",
    "# df.columns = ['label', 'cleaned_tweets_incl_SW', 'cleaned_tweets_SW_removed', 'cleaned_tweets_SW_removed_len_gt2']\n",
    "# df.to_pickle('cleaned_tweets.pkl')\n",
    "# df.to_csv('cleaned_tweets', index=False)"
   ]
  },
  {
   "cell_type": "code",
   "execution_count": 189,
   "id": "8d779cdb",
   "metadata": {},
   "outputs": [
    {
     "data": {
      "text/plain": [
       "scipy.sparse._csr.csr_matrix"
      ]
     },
     "execution_count": 189,
     "metadata": {},
     "output_type": "execute_result"
    }
   ],
   "source": [
    "type(CV_features[0])  # each row is a compressed spare row "
   ]
  },
  {
   "cell_type": "code",
   "execution_count": 190,
   "id": "96fd0554",
   "metadata": {},
   "outputs": [
    {
     "data": {
      "text/plain": [
       "matrix([[0, 0, 0, ..., 0, 0, 0]])"
      ]
     },
     "execution_count": 190,
     "metadata": {},
     "output_type": "execute_result"
    }
   ],
   "source": [
    "CV_features[0].todense()  # decompressing the CSR data"
   ]
  },
  {
   "cell_type": "code",
   "execution_count": 191,
   "id": "740fd79c",
   "metadata": {},
   "outputs": [
    {
     "data": {
      "text/html": [
       "<div>\n",
       "<style scoped>\n",
       "    .dataframe tbody tr th:only-of-type {\n",
       "        vertical-align: middle;\n",
       "    }\n",
       "\n",
       "    .dataframe tbody tr th {\n",
       "        vertical-align: top;\n",
       "    }\n",
       "\n",
       "    .dataframe thead th {\n",
       "        text-align: right;\n",
       "    }\n",
       "</style>\n",
       "<table border=\"1\" class=\"dataframe\">\n",
       "  <thead>\n",
       "    <tr style=\"text-align: right;\">\n",
       "      <th></th>\n",
       "      <th>0</th>\n",
       "      <th>1</th>\n",
       "      <th>2</th>\n",
       "      <th>3</th>\n",
       "      <th>4</th>\n",
       "      <th>5</th>\n",
       "      <th>6</th>\n",
       "      <th>7</th>\n",
       "      <th>8</th>\n",
       "      <th>9</th>\n",
       "      <th>...</th>\n",
       "      <th>15945</th>\n",
       "      <th>15946</th>\n",
       "      <th>15947</th>\n",
       "      <th>15948</th>\n",
       "      <th>15949</th>\n",
       "      <th>15950</th>\n",
       "      <th>15951</th>\n",
       "      <th>15952</th>\n",
       "      <th>15953</th>\n",
       "      <th>15954</th>\n",
       "    </tr>\n",
       "  </thead>\n",
       "  <tbody>\n",
       "    <tr>\n",
       "      <th>0</th>\n",
       "      <td>0</td>\n",
       "      <td>0</td>\n",
       "      <td>0</td>\n",
       "      <td>0</td>\n",
       "      <td>0</td>\n",
       "      <td>0</td>\n",
       "      <td>0</td>\n",
       "      <td>0</td>\n",
       "      <td>0</td>\n",
       "      <td>0</td>\n",
       "      <td>...</td>\n",
       "      <td>0</td>\n",
       "      <td>0</td>\n",
       "      <td>0</td>\n",
       "      <td>0</td>\n",
       "      <td>0</td>\n",
       "      <td>0</td>\n",
       "      <td>0</td>\n",
       "      <td>0</td>\n",
       "      <td>0</td>\n",
       "      <td>0</td>\n",
       "    </tr>\n",
       "    <tr>\n",
       "      <th>1</th>\n",
       "      <td>0</td>\n",
       "      <td>0</td>\n",
       "      <td>0</td>\n",
       "      <td>0</td>\n",
       "      <td>0</td>\n",
       "      <td>0</td>\n",
       "      <td>0</td>\n",
       "      <td>0</td>\n",
       "      <td>0</td>\n",
       "      <td>0</td>\n",
       "      <td>...</td>\n",
       "      <td>0</td>\n",
       "      <td>0</td>\n",
       "      <td>0</td>\n",
       "      <td>0</td>\n",
       "      <td>0</td>\n",
       "      <td>0</td>\n",
       "      <td>0</td>\n",
       "      <td>0</td>\n",
       "      <td>0</td>\n",
       "      <td>0</td>\n",
       "    </tr>\n",
       "    <tr>\n",
       "      <th>2</th>\n",
       "      <td>0</td>\n",
       "      <td>0</td>\n",
       "      <td>0</td>\n",
       "      <td>0</td>\n",
       "      <td>0</td>\n",
       "      <td>0</td>\n",
       "      <td>0</td>\n",
       "      <td>0</td>\n",
       "      <td>0</td>\n",
       "      <td>0</td>\n",
       "      <td>...</td>\n",
       "      <td>0</td>\n",
       "      <td>0</td>\n",
       "      <td>0</td>\n",
       "      <td>0</td>\n",
       "      <td>0</td>\n",
       "      <td>0</td>\n",
       "      <td>0</td>\n",
       "      <td>0</td>\n",
       "      <td>0</td>\n",
       "      <td>0</td>\n",
       "    </tr>\n",
       "    <tr>\n",
       "      <th>3</th>\n",
       "      <td>0</td>\n",
       "      <td>0</td>\n",
       "      <td>0</td>\n",
       "      <td>0</td>\n",
       "      <td>0</td>\n",
       "      <td>0</td>\n",
       "      <td>0</td>\n",
       "      <td>0</td>\n",
       "      <td>0</td>\n",
       "      <td>0</td>\n",
       "      <td>...</td>\n",
       "      <td>0</td>\n",
       "      <td>0</td>\n",
       "      <td>0</td>\n",
       "      <td>0</td>\n",
       "      <td>0</td>\n",
       "      <td>0</td>\n",
       "      <td>0</td>\n",
       "      <td>0</td>\n",
       "      <td>0</td>\n",
       "      <td>0</td>\n",
       "    </tr>\n",
       "    <tr>\n",
       "      <th>4</th>\n",
       "      <td>0</td>\n",
       "      <td>0</td>\n",
       "      <td>0</td>\n",
       "      <td>0</td>\n",
       "      <td>0</td>\n",
       "      <td>0</td>\n",
       "      <td>0</td>\n",
       "      <td>0</td>\n",
       "      <td>0</td>\n",
       "      <td>0</td>\n",
       "      <td>...</td>\n",
       "      <td>0</td>\n",
       "      <td>0</td>\n",
       "      <td>0</td>\n",
       "      <td>0</td>\n",
       "      <td>0</td>\n",
       "      <td>0</td>\n",
       "      <td>0</td>\n",
       "      <td>0</td>\n",
       "      <td>0</td>\n",
       "      <td>0</td>\n",
       "    </tr>\n",
       "    <tr>\n",
       "      <th>...</th>\n",
       "      <td>...</td>\n",
       "      <td>...</td>\n",
       "      <td>...</td>\n",
       "      <td>...</td>\n",
       "      <td>...</td>\n",
       "      <td>...</td>\n",
       "      <td>...</td>\n",
       "      <td>...</td>\n",
       "      <td>...</td>\n",
       "      <td>...</td>\n",
       "      <td>...</td>\n",
       "      <td>...</td>\n",
       "      <td>...</td>\n",
       "      <td>...</td>\n",
       "      <td>...</td>\n",
       "      <td>...</td>\n",
       "      <td>...</td>\n",
       "      <td>...</td>\n",
       "      <td>...</td>\n",
       "      <td>...</td>\n",
       "      <td>...</td>\n",
       "    </tr>\n",
       "    <tr>\n",
       "      <th>7915</th>\n",
       "      <td>0</td>\n",
       "      <td>0</td>\n",
       "      <td>0</td>\n",
       "      <td>0</td>\n",
       "      <td>0</td>\n",
       "      <td>0</td>\n",
       "      <td>0</td>\n",
       "      <td>0</td>\n",
       "      <td>0</td>\n",
       "      <td>0</td>\n",
       "      <td>...</td>\n",
       "      <td>0</td>\n",
       "      <td>0</td>\n",
       "      <td>0</td>\n",
       "      <td>0</td>\n",
       "      <td>0</td>\n",
       "      <td>0</td>\n",
       "      <td>0</td>\n",
       "      <td>0</td>\n",
       "      <td>0</td>\n",
       "      <td>0</td>\n",
       "    </tr>\n",
       "    <tr>\n",
       "      <th>7916</th>\n",
       "      <td>0</td>\n",
       "      <td>0</td>\n",
       "      <td>0</td>\n",
       "      <td>0</td>\n",
       "      <td>0</td>\n",
       "      <td>0</td>\n",
       "      <td>0</td>\n",
       "      <td>0</td>\n",
       "      <td>0</td>\n",
       "      <td>0</td>\n",
       "      <td>...</td>\n",
       "      <td>0</td>\n",
       "      <td>0</td>\n",
       "      <td>0</td>\n",
       "      <td>0</td>\n",
       "      <td>0</td>\n",
       "      <td>0</td>\n",
       "      <td>0</td>\n",
       "      <td>0</td>\n",
       "      <td>0</td>\n",
       "      <td>0</td>\n",
       "    </tr>\n",
       "    <tr>\n",
       "      <th>7917</th>\n",
       "      <td>0</td>\n",
       "      <td>0</td>\n",
       "      <td>0</td>\n",
       "      <td>0</td>\n",
       "      <td>0</td>\n",
       "      <td>0</td>\n",
       "      <td>0</td>\n",
       "      <td>0</td>\n",
       "      <td>0</td>\n",
       "      <td>0</td>\n",
       "      <td>...</td>\n",
       "      <td>0</td>\n",
       "      <td>0</td>\n",
       "      <td>0</td>\n",
       "      <td>0</td>\n",
       "      <td>0</td>\n",
       "      <td>0</td>\n",
       "      <td>0</td>\n",
       "      <td>0</td>\n",
       "      <td>0</td>\n",
       "      <td>0</td>\n",
       "    </tr>\n",
       "    <tr>\n",
       "      <th>7918</th>\n",
       "      <td>0</td>\n",
       "      <td>0</td>\n",
       "      <td>0</td>\n",
       "      <td>0</td>\n",
       "      <td>0</td>\n",
       "      <td>0</td>\n",
       "      <td>0</td>\n",
       "      <td>0</td>\n",
       "      <td>0</td>\n",
       "      <td>0</td>\n",
       "      <td>...</td>\n",
       "      <td>0</td>\n",
       "      <td>0</td>\n",
       "      <td>0</td>\n",
       "      <td>0</td>\n",
       "      <td>0</td>\n",
       "      <td>0</td>\n",
       "      <td>0</td>\n",
       "      <td>0</td>\n",
       "      <td>0</td>\n",
       "      <td>0</td>\n",
       "    </tr>\n",
       "    <tr>\n",
       "      <th>7919</th>\n",
       "      <td>0</td>\n",
       "      <td>0</td>\n",
       "      <td>0</td>\n",
       "      <td>0</td>\n",
       "      <td>0</td>\n",
       "      <td>0</td>\n",
       "      <td>0</td>\n",
       "      <td>0</td>\n",
       "      <td>0</td>\n",
       "      <td>0</td>\n",
       "      <td>...</td>\n",
       "      <td>0</td>\n",
       "      <td>0</td>\n",
       "      <td>0</td>\n",
       "      <td>0</td>\n",
       "      <td>0</td>\n",
       "      <td>0</td>\n",
       "      <td>0</td>\n",
       "      <td>0</td>\n",
       "      <td>0</td>\n",
       "      <td>0</td>\n",
       "    </tr>\n",
       "  </tbody>\n",
       "</table>\n",
       "<p>7920 rows × 15955 columns</p>\n",
       "</div>"
      ],
      "text/plain": [
       "      0      1      2      3      4      5      6      7      8      9      \\\n",
       "0         0      0      0      0      0      0      0      0      0      0   \n",
       "1         0      0      0      0      0      0      0      0      0      0   \n",
       "2         0      0      0      0      0      0      0      0      0      0   \n",
       "3         0      0      0      0      0      0      0      0      0      0   \n",
       "4         0      0      0      0      0      0      0      0      0      0   \n",
       "...     ...    ...    ...    ...    ...    ...    ...    ...    ...    ...   \n",
       "7915      0      0      0      0      0      0      0      0      0      0   \n",
       "7916      0      0      0      0      0      0      0      0      0      0   \n",
       "7917      0      0      0      0      0      0      0      0      0      0   \n",
       "7918      0      0      0      0      0      0      0      0      0      0   \n",
       "7919      0      0      0      0      0      0      0      0      0      0   \n",
       "\n",
       "      ...  15945  15946  15947  15948  15949  15950  15951  15952  15953  \\\n",
       "0     ...      0      0      0      0      0      0      0      0      0   \n",
       "1     ...      0      0      0      0      0      0      0      0      0   \n",
       "2     ...      0      0      0      0      0      0      0      0      0   \n",
       "3     ...      0      0      0      0      0      0      0      0      0   \n",
       "4     ...      0      0      0      0      0      0      0      0      0   \n",
       "...   ...    ...    ...    ...    ...    ...    ...    ...    ...    ...   \n",
       "7915  ...      0      0      0      0      0      0      0      0      0   \n",
       "7916  ...      0      0      0      0      0      0      0      0      0   \n",
       "7917  ...      0      0      0      0      0      0      0      0      0   \n",
       "7918  ...      0      0      0      0      0      0      0      0      0   \n",
       "7919  ...      0      0      0      0      0      0      0      0      0   \n",
       "\n",
       "      15954  \n",
       "0         0  \n",
       "1         0  \n",
       "2         0  \n",
       "3         0  \n",
       "4         0  \n",
       "...     ...  \n",
       "7915      0  \n",
       "7916      0  \n",
       "7917      0  \n",
       "7918      0  \n",
       "7919      0  \n",
       "\n",
       "[7920 rows x 15955 columns]"
      ]
     },
     "execution_count": 191,
     "metadata": {},
     "output_type": "execute_result"
    }
   ],
   "source": [
    "import pandas as pd\n",
    "df = pd.DataFrame(CV_features.todense() )\n",
    "df  \n",
    "# Document-Term-Matrix X = [N x p ]\n",
    "# N = no. of documentns\n",
    "# p = no. of unique words in the vocab!!# this is your D"
   ]
  },
  {
   "cell_type": "code",
   "execution_count": 192,
   "id": "def61af3",
   "metadata": {},
   "outputs": [
    {
     "data": {
      "text/plain": [
       "126.3636"
      ]
     },
     "execution_count": 192,
     "metadata": {},
     "output_type": "execute_result"
    }
   ],
   "source": [
    "df.size/1e6  # these many elements/numbers are presnt in the df"
   ]
  },
  {
   "cell_type": "code",
   "execution_count": 193,
   "id": "76f78d34",
   "metadata": {},
   "outputs": [
    {
     "data": {
      "text/plain": [
       "114973"
      ]
     },
     "execution_count": 193,
     "metadata": {},
     "output_type": "execute_result"
    }
   ],
   "source": [
    "import numpy as np\n",
    "np.count_nonzero(df)"
   ]
  },
  {
   "cell_type": "code",
   "execution_count": 194,
   "id": "c2d68b8c",
   "metadata": {},
   "outputs": [
    {
     "data": {
      "text/plain": [
       "0.09098585352110893"
      ]
     },
     "execution_count": 194,
     "metadata": {},
     "output_type": "execute_result"
    }
   ],
   "source": [
    "100*np.count_nonzero(df)/df.size # percent of the non-zero elements i nthe df"
   ]
  },
  {
   "cell_type": "code",
   "execution_count": 195,
   "id": "2607ec8d",
   "metadata": {},
   "outputs": [
    {
     "name": "stdout",
     "output_type": "stream",
     "text": [
      "['aa' 'aaaahhhhhhh' 'aag' 'aah' 'aalborg' 'aand' 'aapl' 'aarhus' 'aaron'\n",
      " 'aarp' 'aarrrggghhhh' 'aashamsakal' 'aaydojbfkq' 'aayp' 'ab' 'abah'\n",
      " 'abareta' 'abay' 'abb' 'abc' 'abdou' 'abe' 'aber' 'abercrombie' 'abi'\n",
      " 'ability' 'abit' 'able' 'ableton' 'abnqum' 'aboard' 'about' 'aboutalook'\n",
      " 'aboutdamntime' 'abouttime' 'abouttonight' 'above' 'abp' 'abscbn'\n",
      " 'absence' 'absolute' 'absolutely' 'absurd' 'abu' 'abudhabi' 'abuja'\n",
      " 'abujacity' 'abujafct' 'abujapeople' 'abujaphones']\n"
     ]
    }
   ],
   "source": [
    "# print(CV.get_feature_names()[:50])  # these the vocab words\n",
    "# Print the first 50 feature names\n",
    "print(CV.get_feature_names_out()[:50])"
   ]
  },
  {
   "cell_type": "code",
   "execution_count": 196,
   "id": "54d6d866",
   "metadata": {},
   "outputs": [
    {
     "data": {
      "text/plain": [
       "matrix([[0, 0, 0, ..., 0, 0, 0]])"
      ]
     },
     "execution_count": 196,
     "metadata": {},
     "output_type": "execute_result"
    }
   ],
   "source": [
    "CV_features[10].todense()  # these are numbers corresponding to the 11th tweet"
   ]
  },
  {
   "cell_type": "code",
   "execution_count": 197,
   "id": "0e765ec8",
   "metadata": {},
   "outputs": [
    {
     "data": {
      "text/plain": [
       "[array(['apple', 'color', 'crash', 'do', 'every', 'five', 'fuckin', 'hey',\n",
       "        'inch', 'ipod', 'it', 'make', 'minite', 'new', 'not', 'or',\n",
       "        'thinner', 'when', 'you'], dtype='<U41')]"
      ]
     },
     "execution_count": 197,
     "metadata": {},
     "output_type": "execute_result"
    }
   ],
   "source": [
    "CV.inverse_transform(np.asarray(CV_features[10].todense()))  # actual words in the 10th tweet"
   ]
  },
  {
   "cell_type": "markdown",
   "id": "e6dd7b9a",
   "metadata": {},
   "source": [
    "# 5. Model building"
   ]
  },
  {
   "cell_type": "code",
   "execution_count": 198,
   "id": "4c72611d",
   "metadata": {},
   "outputs": [],
   "source": [
    "from sklearn.model_selection import train_test_split\n",
    "\n",
    "X_train, X_test, y_train, y_test = train_test_split(CV_features, data['label'], test_size=0.25, stratify=data['label'], random_state=42)"
   ]
  },
  {
   "cell_type": "code",
   "execution_count": 199,
   "id": "2a3b3020",
   "metadata": {},
   "outputs": [
    {
     "name": "stdout",
     "output_type": "stream",
     "text": [
      "0.9779461279461279\n",
      "0.8813131313131313\n"
     ]
    }
   ],
   "source": [
    "from sklearn.linear_model import LogisticRegression\n",
    "LR = LogisticRegression(solver='liblinear')\n",
    "LR.fit(X_train, y_train)\n",
    "\n",
    "print(LR.score(X_train, y_train))  # train score)\n",
    "print(LR.score(X_test, y_test))   # test score)  "
   ]
  },
  {
   "cell_type": "code",
   "execution_count": 200,
   "id": "82c2b527",
   "metadata": {},
   "outputs": [
    {
     "name": "stdout",
     "output_type": "stream",
     "text": [
      "0.9038720538720538\n",
      "0.8813131313131313\n"
     ]
    }
   ],
   "source": [
    "## L1-REGULARIZATION\n",
    "LR1 = LogisticRegression(class_weight='balanced', solver='liblinear', penalty='l1', C=0.4)\n",
    "LR1.fit(X_train, y_train)\n",
    "\n",
    "print(LR1.score(X_train, y_train))  # train score)\n",
    "print(LR1.score(X_test, y_test))   # test score)      "
   ]
  },
  {
   "cell_type": "code",
   "execution_count": 201,
   "id": "7b364a8e",
   "metadata": {},
   "outputs": [],
   "source": [
    "## leT'S Cross-Validate the Logistic Regression Model ?????\n",
    "from sklearn.model_selection import cross_val_score, cross_validate\n",
    "from sklearn.model_selection import StratifiedKFold"
   ]
  },
  {
   "cell_type": "code",
   "execution_count": 202,
   "id": "fcaf89c2",
   "metadata": {},
   "outputs": [],
   "source": [
    "X = CV_features\n",
    "y = data['label']"
   ]
  },
  {
   "cell_type": "code",
   "execution_count": 203,
   "id": "7c55927c",
   "metadata": {},
   "outputs": [
    {
     "name": "stdout",
     "output_type": "stream",
     "text": [
      "[0.88320707 0.86931818 0.87752525 0.89772727 0.88699495]\n",
      "88.3 0.95\n"
     ]
    }
   ],
   "source": [
    "## crOSS VALIDATE THE LR1 model\n",
    "\n",
    "LR1 = LogisticRegression(class_weight='balanced', solver='liblinear', penalty='l1', C=0.4)\n",
    "kfold = StratifiedKFold(n_splits=5, shuffle=True, random_state=42)\n",
    "results = cross_val_score(LR1, X, y, cv=kfold, scoring='accuracy')\n",
    "print(results)\n",
    "print(np.round((results.mean())*100, 2), np.round((results.std())*100, 2)) "
   ]
  },
  {
   "cell_type": "code",
   "execution_count": 204,
   "id": "97d2ef36",
   "metadata": {},
   "outputs": [],
   "source": [
    "# accuracy = 88.23 +/- 0.93 %"
   ]
  },
  {
   "cell_type": "code",
   "execution_count": 205,
   "id": "3b5cbe8e",
   "metadata": {},
   "outputs": [],
   "source": [
    "kfold = StratifiedKFold(n_splits=5, shuffle=True, random_state=42)\n",
    "results = cross_validate(LR1, X, y, cv=kfold, scoring='accuracy', return_train_score=True)"
   ]
  },
  {
   "cell_type": "code",
   "execution_count": 206,
   "id": "f4195164",
   "metadata": {},
   "outputs": [
    {
     "data": {
      "text/plain": [
       "{'fit_time': array([0.01975513, 0.01931787, 0.01622343, 0.01612496, 0.01689911]),\n",
       " 'score_time': array([0.00048208, 0.00039101, 0.0003078 , 0.00027418, 0.00041294]),\n",
       " 'test_score': array([0.88320707, 0.86931818, 0.87752525, 0.89772727, 0.88699495]),\n",
       " 'train_score': array([0.90388258, 0.90909091, 0.9040404 , 0.90372475, 0.90451389])}"
      ]
     },
     "execution_count": 206,
     "metadata": {},
     "output_type": "execute_result"
    }
   ],
   "source": [
    "results"
   ]
  },
  {
   "cell_type": "code",
   "execution_count": 207,
   "id": "dbcf5a18",
   "metadata": {},
   "outputs": [
    {
     "name": "stdout",
     "output_type": "stream",
     "text": [
      "[0.90388258 0.90909091 0.9040404  0.90372475 0.90451389]\n",
      "90.51 0.2\n"
     ]
    }
   ],
   "source": [
    "print(results['train_score'])\n",
    "print(np.round((results['train_score'].mean())*100, 2), np.round((results['train_score'].std())*100, 2)) "
   ]
  },
  {
   "cell_type": "code",
   "execution_count": 208,
   "id": "9762fdf9",
   "metadata": {},
   "outputs": [
    {
     "name": "stdout",
     "output_type": "stream",
     "text": [
      "[0.88320707 0.86931818 0.87752525 0.89772727 0.88699495]\n",
      "88.3 0.95\n"
     ]
    }
   ],
   "source": [
    "print(results['test_score'])\n",
    "print(np.round((results['test_score'].mean())*100, 2), np.round((results['test_score'].std())*100, 2)) "
   ]
  },
  {
   "cell_type": "markdown",
   "id": "1d1407d8",
   "metadata": {},
   "source": [
    "## Hyper parameter tuning of the LR1 model"
   ]
  },
  {
   "cell_type": "code",
   "execution_count": 209,
   "id": "0db78851",
   "metadata": {},
   "outputs": [
    {
     "name": "stdout",
     "output_type": "stream",
     "text": [
      "Fitting 5 folds for each of 20 candidates, totalling 100 fits\n"
     ]
    }
   ],
   "source": [
    "## Hyper parameter tuning of the LR1 model\n",
    "from sklearn.model_selection import GridSearchCV\n",
    "\n",
    "LR1 = LogisticRegression(class_weight='balanced', solver='liblinear', penalty='l1')\n",
    "\n",
    "C_values = np.arange(0.00001, 1, 0.05) # 20 values\n",
    "\n",
    "grid = GridSearchCV(estimator=LR1, param_grid={'C': C_values}, cv=kfold, scoring='accuracy', \\\n",
    "                    return_train_score=True, verbose=2, n_jobs=-1)\n",
    "grid_results = grid.fit(X,y)"
   ]
  },
  {
   "cell_type": "code",
   "execution_count": 210,
   "id": "443d5137",
   "metadata": {},
   "outputs": [
    {
     "data": {
      "text/html": [
       "<style>#sk-container-id-3 {color: black;}#sk-container-id-3 pre{padding: 0;}#sk-container-id-3 div.sk-toggleable {background-color: white;}#sk-container-id-3 label.sk-toggleable__label {cursor: pointer;display: block;width: 100%;margin-bottom: 0;padding: 0.3em;box-sizing: border-box;text-align: center;}#sk-container-id-3 label.sk-toggleable__label-arrow:before {content: \"▸\";float: left;margin-right: 0.25em;color: #696969;}#sk-container-id-3 label.sk-toggleable__label-arrow:hover:before {color: black;}#sk-container-id-3 div.sk-estimator:hover label.sk-toggleable__label-arrow:before {color: black;}#sk-container-id-3 div.sk-toggleable__content {max-height: 0;max-width: 0;overflow: hidden;text-align: left;background-color: #f0f8ff;}#sk-container-id-3 div.sk-toggleable__content pre {margin: 0.2em;color: black;border-radius: 0.25em;background-color: #f0f8ff;}#sk-container-id-3 input.sk-toggleable__control:checked~div.sk-toggleable__content {max-height: 200px;max-width: 100%;overflow: auto;}#sk-container-id-3 input.sk-toggleable__control:checked~label.sk-toggleable__label-arrow:before {content: \"▾\";}#sk-container-id-3 div.sk-estimator input.sk-toggleable__control:checked~label.sk-toggleable__label {background-color: #d4ebff;}#sk-container-id-3 div.sk-label input.sk-toggleable__control:checked~label.sk-toggleable__label {background-color: #d4ebff;}#sk-container-id-3 input.sk-hidden--visually {border: 0;clip: rect(1px 1px 1px 1px);clip: rect(1px, 1px, 1px, 1px);height: 1px;margin: -1px;overflow: hidden;padding: 0;position: absolute;width: 1px;}#sk-container-id-3 div.sk-estimator {font-family: monospace;background-color: #f0f8ff;border: 1px dotted black;border-radius: 0.25em;box-sizing: border-box;margin-bottom: 0.5em;}#sk-container-id-3 div.sk-estimator:hover {background-color: #d4ebff;}#sk-container-id-3 div.sk-parallel-item::after {content: \"\";width: 100%;border-bottom: 1px solid gray;flex-grow: 1;}#sk-container-id-3 div.sk-label:hover label.sk-toggleable__label {background-color: #d4ebff;}#sk-container-id-3 div.sk-serial::before {content: \"\";position: absolute;border-left: 1px solid gray;box-sizing: border-box;top: 0;bottom: 0;left: 50%;z-index: 0;}#sk-container-id-3 div.sk-serial {display: flex;flex-direction: column;align-items: center;background-color: white;padding-right: 0.2em;padding-left: 0.2em;position: relative;}#sk-container-id-3 div.sk-item {position: relative;z-index: 1;}#sk-container-id-3 div.sk-parallel {display: flex;align-items: stretch;justify-content: center;background-color: white;position: relative;}#sk-container-id-3 div.sk-item::before, #sk-container-id-3 div.sk-parallel-item::before {content: \"\";position: absolute;border-left: 1px solid gray;box-sizing: border-box;top: 0;bottom: 0;left: 50%;z-index: -1;}#sk-container-id-3 div.sk-parallel-item {display: flex;flex-direction: column;z-index: 1;position: relative;background-color: white;}#sk-container-id-3 div.sk-parallel-item:first-child::after {align-self: flex-end;width: 50%;}#sk-container-id-3 div.sk-parallel-item:last-child::after {align-self: flex-start;width: 50%;}#sk-container-id-3 div.sk-parallel-item:only-child::after {width: 0;}#sk-container-id-3 div.sk-dashed-wrapped {border: 1px dashed gray;margin: 0 0.4em 0.5em 0.4em;box-sizing: border-box;padding-bottom: 0.4em;background-color: white;}#sk-container-id-3 div.sk-label label {font-family: monospace;font-weight: bold;display: inline-block;line-height: 1.2em;}#sk-container-id-3 div.sk-label-container {text-align: center;}#sk-container-id-3 div.sk-container {/* jupyter's `normalize.less` sets `[hidden] { display: none; }` but bootstrap.min.css set `[hidden] { display: none !important; }` so we also need the `!important` here to be able to override the default hidden behavior on the sphinx rendered scikit-learn.org. See: https://github.com/scikit-learn/scikit-learn/issues/21755 */display: inline-block !important;position: relative;}#sk-container-id-3 div.sk-text-repr-fallback {display: none;}</style><div id=\"sk-container-id-3\" class=\"sk-top-container\"><div class=\"sk-text-repr-fallback\"><pre>GridSearchCV(cv=StratifiedKFold(n_splits=5, random_state=42, shuffle=True),\n",
       "             estimator=LogisticRegression(class_weight=&#x27;balanced&#x27;, penalty=&#x27;l1&#x27;,\n",
       "                                          solver=&#x27;liblinear&#x27;),\n",
       "             n_jobs=-1,\n",
       "             param_grid={&#x27;C&#x27;: array([1.0000e-05, 5.0010e-02, 1.0001e-01, 1.5001e-01, 2.0001e-01,\n",
       "       2.5001e-01, 3.0001e-01, 3.5001e-01, 4.0001e-01, 4.5001e-01,\n",
       "       5.0001e-01, 5.5001e-01, 6.0001e-01, 6.5001e-01, 7.0001e-01,\n",
       "       7.5001e-01, 8.0001e-01, 8.5001e-01, 9.0001e-01, 9.5001e-01])},\n",
       "             return_train_score=True, scoring=&#x27;accuracy&#x27;, verbose=2)</pre><b>In a Jupyter environment, please rerun this cell to show the HTML representation or trust the notebook. <br />On GitHub, the HTML representation is unable to render, please try loading this page with nbviewer.org.</b></div><div class=\"sk-container\" hidden><div class=\"sk-item sk-dashed-wrapped\"><div class=\"sk-label-container\"><div class=\"sk-label sk-toggleable\"><input class=\"sk-toggleable__control sk-hidden--visually\" id=\"sk-estimator-id-7\" type=\"checkbox\" ><label for=\"sk-estimator-id-7\" class=\"sk-toggleable__label sk-toggleable__label-arrow\">GridSearchCV</label><div class=\"sk-toggleable__content\"><pre>GridSearchCV(cv=StratifiedKFold(n_splits=5, random_state=42, shuffle=True),\n",
       "             estimator=LogisticRegression(class_weight=&#x27;balanced&#x27;, penalty=&#x27;l1&#x27;,\n",
       "                                          solver=&#x27;liblinear&#x27;),\n",
       "             n_jobs=-1,\n",
       "             param_grid={&#x27;C&#x27;: array([1.0000e-05, 5.0010e-02, 1.0001e-01, 1.5001e-01, 2.0001e-01,\n",
       "       2.5001e-01, 3.0001e-01, 3.5001e-01, 4.0001e-01, 4.5001e-01,\n",
       "       5.0001e-01, 5.5001e-01, 6.0001e-01, 6.5001e-01, 7.0001e-01,\n",
       "       7.5001e-01, 8.0001e-01, 8.5001e-01, 9.0001e-01, 9.5001e-01])},\n",
       "             return_train_score=True, scoring=&#x27;accuracy&#x27;, verbose=2)</pre></div></div></div><div class=\"sk-parallel\"><div class=\"sk-parallel-item\"><div class=\"sk-item\"><div class=\"sk-label-container\"><div class=\"sk-label sk-toggleable\"><input class=\"sk-toggleable__control sk-hidden--visually\" id=\"sk-estimator-id-8\" type=\"checkbox\" ><label for=\"sk-estimator-id-8\" class=\"sk-toggleable__label sk-toggleable__label-arrow\">estimator: LogisticRegression</label><div class=\"sk-toggleable__content\"><pre>LogisticRegression(class_weight=&#x27;balanced&#x27;, penalty=&#x27;l1&#x27;, solver=&#x27;liblinear&#x27;)</pre></div></div></div><div class=\"sk-serial\"><div class=\"sk-item\"><div class=\"sk-estimator sk-toggleable\"><input class=\"sk-toggleable__control sk-hidden--visually\" id=\"sk-estimator-id-9\" type=\"checkbox\" ><label for=\"sk-estimator-id-9\" class=\"sk-toggleable__label sk-toggleable__label-arrow\">LogisticRegression</label><div class=\"sk-toggleable__content\"><pre>LogisticRegression(class_weight=&#x27;balanced&#x27;, penalty=&#x27;l1&#x27;, solver=&#x27;liblinear&#x27;)</pre></div></div></div></div></div></div></div></div></div></div>"
      ],
      "text/plain": [
       "GridSearchCV(cv=StratifiedKFold(n_splits=5, random_state=42, shuffle=True),\n",
       "             estimator=LogisticRegression(class_weight='balanced', penalty='l1',\n",
       "                                          solver='liblinear'),\n",
       "             n_jobs=-1,\n",
       "             param_grid={'C': array([1.0000e-05, 5.0010e-02, 1.0001e-01, 1.5001e-01, 2.0001e-01,\n",
       "       2.5001e-01, 3.0001e-01, 3.5001e-01, 4.0001e-01, 4.5001e-01,\n",
       "       5.0001e-01, 5.5001e-01, 6.0001e-01, 6.5001e-01, 7.0001e-01,\n",
       "       7.5001e-01, 8.0001e-01, 8.5001e-01, 9.0001e-01, 9.5001e-01])},\n",
       "             return_train_score=True, scoring='accuracy', verbose=2)"
      ]
     },
     "execution_count": 210,
     "metadata": {},
     "output_type": "execute_result"
    }
   ],
   "source": [
    "grid_results"
   ]
  },
  {
   "cell_type": "code",
   "execution_count": 211,
   "id": "774eaa39",
   "metadata": {},
   "outputs": [
    {
     "data": {
      "text/plain": [
       "({'C': 0.95001}, 0.8905303030303029, 19)"
      ]
     },
     "execution_count": 211,
     "metadata": {},
     "output_type": "execute_result"
    }
   ],
   "source": [
    "grid_results.best_params_, grid_results.best_score_, grid_results.best_index_"
   ]
  },
  {
   "cell_type": "code",
   "execution_count": 212,
   "id": "f9061881",
   "metadata": {},
   "outputs": [
    {
     "data": {
      "text/plain": [
       "dict_keys(['mean_fit_time', 'std_fit_time', 'mean_score_time', 'std_score_time', 'param_C', 'params', 'split0_test_score', 'split1_test_score', 'split2_test_score', 'split3_test_score', 'split4_test_score', 'mean_test_score', 'std_test_score', 'rank_test_score', 'split0_train_score', 'split1_train_score', 'split2_train_score', 'split3_train_score', 'split4_train_score', 'mean_train_score', 'std_train_score'])"
      ]
     },
     "execution_count": 212,
     "metadata": {},
     "output_type": "execute_result"
    }
   ],
   "source": [
    "grid_results.cv_results_.keys()"
   ]
  },
  {
   "cell_type": "code",
   "execution_count": 213,
   "id": "e986baef",
   "metadata": {},
   "outputs": [
    {
     "data": {
      "text/plain": [
       "89.05303030303028"
      ]
     },
     "execution_count": 213,
     "metadata": {},
     "output_type": "execute_result"
    }
   ],
   "source": [
    "grid_results.cv_results_['mean_test_score'][grid_results.best_index_]*100"
   ]
  },
  {
   "cell_type": "code",
   "execution_count": 214,
   "id": "f6302ce0",
   "metadata": {},
   "outputs": [
    {
     "data": {
      "text/plain": [
       "93.28282828282829"
      ]
     },
     "execution_count": 214,
     "metadata": {},
     "output_type": "execute_result"
    }
   ],
   "source": [
    "grid_results.cv_results_['mean_train_score'][grid_results.best_index_]*100\n",
    "\n",
    "# means your \"best-fitted\" model from GridsearchCV is (could be) still OVERFITTED!!!!!!!!!"
   ]
  },
  {
   "cell_type": "code",
   "execution_count": 215,
   "id": "8b424b9b",
   "metadata": {},
   "outputs": [
    {
     "data": {
      "text/plain": [
       "0.6616450760895921"
      ]
     },
     "execution_count": 215,
     "metadata": {},
     "output_type": "execute_result"
    }
   ],
   "source": [
    "grid_results.cv_results_['std_test_score'][grid_results.best_index_]*100"
   ]
  },
  {
   "cell_type": "code",
   "execution_count": 216,
   "id": "ef6fdcfa",
   "metadata": {},
   "outputs": [
    {
     "data": {
      "text/plain": [
       "array([0.74419192, 0.84494949, 0.86338384, 0.87171717, 0.87537879,\n",
       "       0.8790404 , 0.88017677, 0.88143939, 0.88282828, 0.88497475,\n",
       "       0.88560606, 0.88661616, 0.88699495, 0.88888889, 0.88939394,\n",
       "       0.88876263, 0.8895202 , 0.88926768, 0.89015152, 0.8905303 ])"
      ]
     },
     "execution_count": 216,
     "metadata": {},
     "output_type": "execute_result"
    }
   ],
   "source": [
    "grid_results.cv_results_['mean_test_score']"
   ]
  },
  {
   "cell_type": "code",
   "execution_count": 217,
   "id": "b40bc4d2",
   "metadata": {},
   "outputs": [
    {
     "data": {
      "text/plain": [
       "array([0.74419192, 0.85      , 0.86998106, 0.88030303, 0.88715278,\n",
       "       0.89232955, 0.89649621, 0.90094697, 0.90508207, 0.90811237,\n",
       "       0.91003788, 0.91344697, 0.91568813, 0.91856061, 0.92133838,\n",
       "       0.92332702, 0.92607323, 0.92856692, 0.93055556, 0.93282828])"
      ]
     },
     "execution_count": 217,
     "metadata": {},
     "output_type": "execute_result"
    }
   ],
   "source": [
    "grid_results.cv_results_['mean_train_score']"
   ]
  },
  {
   "cell_type": "code",
   "execution_count": 218,
   "id": "e611e951",
   "metadata": {
    "scrolled": true
   },
   "outputs": [
    {
     "data": {
      "text/plain": [
       "[<matplotlib.lines.Line2D at 0x35986fa50>]"
      ]
     },
     "execution_count": 218,
     "metadata": {},
     "output_type": "execute_result"
    },
    {
     "data": {
      "image/png": "[encoded data removed]",
      "text/plain": [
       "<Figure size 640x480 with 1 Axes>"
      ]
     },
     "metadata": {},
     "output_type": "display_data"
    }
   ],
   "source": [
    "plt.plot(grid_results.cv_results_['mean_train_score'] - grid_results.cv_results_['mean_test_score'])"
   ]
  },
  {
   "cell_type": "code",
   "execution_count": 219,
   "id": "c0b0f88b",
   "metadata": {},
   "outputs": [
    {
     "data": {
      "text/plain": [
       "{'C': array([1.0000e-05, 5.0010e-02, 1.0001e-01, 1.5001e-01, 2.0001e-01,\n",
       "        2.5001e-01, 3.0001e-01, 3.5001e-01, 4.0001e-01, 4.5001e-01,\n",
       "        5.0001e-01, 5.5001e-01, 6.0001e-01, 6.5001e-01, 7.0001e-01,\n",
       "        7.5001e-01, 8.0001e-01, 8.5001e-01, 9.0001e-01, 9.5001e-01])}"
      ]
     },
     "execution_count": 219,
     "metadata": {},
     "output_type": "execute_result"
    }
   ],
   "source": [
    "grid_results.param_grid"
   ]
  },
  {
   "cell_type": "code",
   "execution_count": 220,
   "id": "d70a0c25",
   "metadata": {},
   "outputs": [
    {
     "data": {
      "text/plain": [
       "0.15001000000000003"
      ]
     },
     "execution_count": 220,
     "metadata": {},
     "output_type": "execute_result"
    }
   ],
   "source": [
    "grid_results.param_grid['C'][3]"
   ]
  },
  {
   "cell_type": "code",
   "execution_count": 221,
   "id": "4b1898b1",
   "metadata": {},
   "outputs": [
    {
     "data": {
      "text/plain": [
       "array([-1.11022302e-16,  5.05050505e-03,  6.59722222e-03,  8.58585859e-03,\n",
       "        1.17739899e-02,  1.32891414e-02,  1.63194444e-02,  1.95075758e-02,\n",
       "        2.22537879e-02,  2.31376263e-02,  2.44318182e-02,  2.68308081e-02,\n",
       "        2.86931818e-02,  2.96717172e-02,  3.19444444e-02,  3.45643939e-02,\n",
       "        3.65530303e-02,  3.92992424e-02,  4.04040404e-02,  4.22979798e-02])"
      ]
     },
     "execution_count": 221,
     "metadata": {},
     "output_type": "execute_result"
    }
   ],
   "source": [
    "grid_results.cv_results_['mean_train_score'] - grid_results.cv_results_['mean_test_score']"
   ]
  },
  {
   "cell_type": "code",
   "execution_count": 222,
   "id": "683ca4f1",
   "metadata": {},
   "outputs": [
    {
     "name": "stdout",
     "output_type": "stream",
     "text": [
      "88.28 0.93\n"
     ]
    }
   ],
   "source": [
    "# Create a pipeline & cross-validate\n",
    "from sklearn.pipeline import make_pipeline, Pipeline\n",
    "\n",
    "X = data['cleaned_tweets_w/o_SW']\n",
    "y = data['label']\n",
    "\n",
    "CV = CountVectorizer()\n",
    "LR1 = LogisticRegression(class_weight='balanced', solver='liblinear', penalty='l1', C=0.4)\n",
    "\n",
    "CV_pipe = Pipeline([('CV', CV) , ('LR', LR1)] )\n",
    "\n",
    "results = cross_val_score(CV_pipe, X, y, cv=kfold, scoring='accuracy')\n",
    "print(np.round((results.mean())*100, 2), np.round((results.std())*100, 2)) "
   ]
  },
  {
   "cell_type": "code",
   "execution_count": 223,
   "id": "ba6c19bb",
   "metadata": {},
   "outputs": [
    {
     "data": {
      "text/plain": [
       "{'CV': CountVectorizer(),\n",
       " 'LR': LogisticRegression(C=0.4, class_weight='balanced', penalty='l1',\n",
       "                    solver='liblinear')}"
      ]
     },
     "execution_count": 223,
     "metadata": {},
     "output_type": "execute_result"
    }
   ],
   "source": [
    "CV_pipe.named_steps"
   ]
  },
  {
   "cell_type": "code",
   "execution_count": 224,
   "id": "6820a163",
   "metadata": {},
   "outputs": [
    {
     "data": {
      "text/html": [
       "<style>#sk-container-id-4 {color: black;}#sk-container-id-4 pre{padding: 0;}#sk-container-id-4 div.sk-toggleable {background-color: white;}#sk-container-id-4 label.sk-toggleable__label {cursor: pointer;display: block;width: 100%;margin-bottom: 0;padding: 0.3em;box-sizing: border-box;text-align: center;}#sk-container-id-4 label.sk-toggleable__label-arrow:before {content: \"▸\";float: left;margin-right: 0.25em;color: #696969;}#sk-container-id-4 label.sk-toggleable__label-arrow:hover:before {color: black;}#sk-container-id-4 div.sk-estimator:hover label.sk-toggleable__label-arrow:before {color: black;}#sk-container-id-4 div.sk-toggleable__content {max-height: 0;max-width: 0;overflow: hidden;text-align: left;background-color: #f0f8ff;}#sk-container-id-4 div.sk-toggleable__content pre {margin: 0.2em;color: black;border-radius: 0.25em;background-color: #f0f8ff;}#sk-container-id-4 input.sk-toggleable__control:checked~div.sk-toggleable__content {max-height: 200px;max-width: 100%;overflow: auto;}#sk-container-id-4 input.sk-toggleable__control:checked~label.sk-toggleable__label-arrow:before {content: \"▾\";}#sk-container-id-4 div.sk-estimator input.sk-toggleable__control:checked~label.sk-toggleable__label {background-color: #d4ebff;}#sk-container-id-4 div.sk-label input.sk-toggleable__control:checked~label.sk-toggleable__label {background-color: #d4ebff;}#sk-container-id-4 input.sk-hidden--visually {border: 0;clip: rect(1px 1px 1px 1px);clip: rect(1px, 1px, 1px, 1px);height: 1px;margin: -1px;overflow: hidden;padding: 0;position: absolute;width: 1px;}#sk-container-id-4 div.sk-estimator {font-family: monospace;background-color: #f0f8ff;border: 1px dotted black;border-radius: 0.25em;box-sizing: border-box;margin-bottom: 0.5em;}#sk-container-id-4 div.sk-estimator:hover {background-color: #d4ebff;}#sk-container-id-4 div.sk-parallel-item::after {content: \"\";width: 100%;border-bottom: 1px solid gray;flex-grow: 1;}#sk-container-id-4 div.sk-label:hover label.sk-toggleable__label {background-color: #d4ebff;}#sk-container-id-4 div.sk-serial::before {content: \"\";position: absolute;border-left: 1px solid gray;box-sizing: border-box;top: 0;bottom: 0;left: 50%;z-index: 0;}#sk-container-id-4 div.sk-serial {display: flex;flex-direction: column;align-items: center;background-color: white;padding-right: 0.2em;padding-left: 0.2em;position: relative;}#sk-container-id-4 div.sk-item {position: relative;z-index: 1;}#sk-container-id-4 div.sk-parallel {display: flex;align-items: stretch;justify-content: center;background-color: white;position: relative;}#sk-container-id-4 div.sk-item::before, #sk-container-id-4 div.sk-parallel-item::before {content: \"\";position: absolute;border-left: 1px solid gray;box-sizing: border-box;top: 0;bottom: 0;left: 50%;z-index: -1;}#sk-container-id-4 div.sk-parallel-item {display: flex;flex-direction: column;z-index: 1;position: relative;background-color: white;}#sk-container-id-4 div.sk-parallel-item:first-child::after {align-self: flex-end;width: 50%;}#sk-container-id-4 div.sk-parallel-item:last-child::after {align-self: flex-start;width: 50%;}#sk-container-id-4 div.sk-parallel-item:only-child::after {width: 0;}#sk-container-id-4 div.sk-dashed-wrapped {border: 1px dashed gray;margin: 0 0.4em 0.5em 0.4em;box-sizing: border-box;padding-bottom: 0.4em;background-color: white;}#sk-container-id-4 div.sk-label label {font-family: monospace;font-weight: bold;display: inline-block;line-height: 1.2em;}#sk-container-id-4 div.sk-label-container {text-align: center;}#sk-container-id-4 div.sk-container {/* jupyter's `normalize.less` sets `[hidden] { display: none; }` but bootstrap.min.css set `[hidden] { display: none !important; }` so we also need the `!important` here to be able to override the default hidden behavior on the sphinx rendered scikit-learn.org. See: https://github.com/scikit-learn/scikit-learn/issues/21755 */display: inline-block !important;position: relative;}#sk-container-id-4 div.sk-text-repr-fallback {display: none;}</style><div id=\"sk-container-id-4\" class=\"sk-top-container\"><div class=\"sk-text-repr-fallback\"><pre>Pipeline(steps=[(&#x27;CV&#x27;, CountVectorizer()),\n",
       "                (&#x27;LR&#x27;,\n",
       "                 LogisticRegression(C=0.4, class_weight=&#x27;balanced&#x27;,\n",
       "                                    penalty=&#x27;l1&#x27;, solver=&#x27;liblinear&#x27;))])</pre><b>In a Jupyter environment, please rerun this cell to show the HTML representation or trust the notebook. <br />On GitHub, the HTML representation is unable to render, please try loading this page with nbviewer.org.</b></div><div class=\"sk-container\" hidden><div class=\"sk-item sk-dashed-wrapped\"><div class=\"sk-label-container\"><div class=\"sk-label sk-toggleable\"><input class=\"sk-toggleable__control sk-hidden--visually\" id=\"sk-estimator-id-10\" type=\"checkbox\" ><label for=\"sk-estimator-id-10\" class=\"sk-toggleable__label sk-toggleable__label-arrow\">Pipeline</label><div class=\"sk-toggleable__content\"><pre>Pipeline(steps=[(&#x27;CV&#x27;, CountVectorizer()),\n",
       "                (&#x27;LR&#x27;,\n",
       "                 LogisticRegression(C=0.4, class_weight=&#x27;balanced&#x27;,\n",
       "                                    penalty=&#x27;l1&#x27;, solver=&#x27;liblinear&#x27;))])</pre></div></div></div><div class=\"sk-serial\"><div class=\"sk-item\"><div class=\"sk-estimator sk-toggleable\"><input class=\"sk-toggleable__control sk-hidden--visually\" id=\"sk-estimator-id-11\" type=\"checkbox\" ><label for=\"sk-estimator-id-11\" class=\"sk-toggleable__label sk-toggleable__label-arrow\">CountVectorizer</label><div class=\"sk-toggleable__content\"><pre>CountVectorizer()</pre></div></div></div><div class=\"sk-item\"><div class=\"sk-estimator sk-toggleable\"><input class=\"sk-toggleable__control sk-hidden--visually\" id=\"sk-estimator-id-12\" type=\"checkbox\" ><label for=\"sk-estimator-id-12\" class=\"sk-toggleable__label sk-toggleable__label-arrow\">LogisticRegression</label><div class=\"sk-toggleable__content\"><pre>LogisticRegression(C=0.4, class_weight=&#x27;balanced&#x27;, penalty=&#x27;l1&#x27;,\n",
       "                   solver=&#x27;liblinear&#x27;)</pre></div></div></div></div></div></div></div>"
      ],
      "text/plain": [
       "Pipeline(steps=[('CV', CountVectorizer()),\n",
       "                ('LR',\n",
       "                 LogisticRegression(C=0.4, class_weight='balanced',\n",
       "                                    penalty='l1', solver='liblinear'))])"
      ]
     },
     "execution_count": 224,
     "metadata": {},
     "output_type": "execute_result"
    }
   ],
   "source": [
    "CV_pipe.fit(X,y)"
   ]
  },
  {
   "cell_type": "code",
   "execution_count": 225,
   "id": "17a39f4e",
   "metadata": {},
   "outputs": [
    {
     "data": {
      "text/plain": [
       "15955"
      ]
     },
     "execution_count": 225,
     "metadata": {},
     "output_type": "execute_result"
    }
   ],
   "source": [
    "len(CV_pipe['CV'].vocabulary_)  # CV with stopwords applied already & word_len > 2"
   ]
  },
  {
   "cell_type": "code",
   "execution_count": 226,
   "id": "b498e1e8",
   "metadata": {},
   "outputs": [],
   "source": [
    "# print(CV_pipe['CV'].vocabulary_)"
   ]
  },
  {
   "cell_type": "markdown",
   "id": "3cb2eae1",
   "metadata": {},
   "source": [
    "# 6. LR Model without vs with stop_words ??"
   ]
  },
  {
   "cell_type": "code",
   "execution_count": 227,
   "id": "12a440e2",
   "metadata": {},
   "outputs": [
    {
     "name": "stdout",
     "output_type": "stream",
     "text": [
      "86.87 1.07\n"
     ]
    },
    {
     "data": {
      "text/plain": [
       "15673"
      ]
     },
     "execution_count": 227,
     "metadata": {},
     "output_type": "execute_result"
    }
   ],
   "source": [
    "# Create a pipeline & cross-validate\n",
    "from sklearn.pipeline import make_pipeline, Pipeline\n",
    "\n",
    "X = data['cleaned_tweets_w/o_SW']\n",
    "y = data['label']\n",
    "\n",
    "CV = CountVectorizer(stop_words=final_stopwords)\n",
    "LR1 = LogisticRegression(class_weight='balanced', solver='liblinear', penalty='l1', C=0.4)\n",
    "\n",
    "CV_pipe = Pipeline([('CV', CV) , ('LR', LR1)] )\n",
    "\n",
    "results = cross_val_score(CV_pipe, X, y, cv=kfold, scoring='accuracy')\n",
    "print(np.round((results.mean())*100, 2), np.round((results.std())*100, 2)) \n",
    "\n",
    "CV_pipe.fit(X,y)\n",
    "len(CV_pipe['CV'].vocabulary_) "
   ]
  },
  {
   "cell_type": "code",
   "execution_count": null,
   "id": "783a68f8",
   "metadata": {},
   "outputs": [],
   "source": []
  },
  {
   "cell_type": "code",
   "execution_count": 228,
   "id": "7f3c229f",
   "metadata": {},
   "outputs": [
    {
     "name": "stdout",
     "output_type": "stream",
     "text": [
      "86.77 1.03\n"
     ]
    },
    {
     "data": {
      "text/plain": [
       "1086"
      ]
     },
     "execution_count": 228,
     "metadata": {},
     "output_type": "execute_result"
    }
   ],
   "source": [
    "# Create a pipeline & cross-validate\n",
    "from sklearn.pipeline import make_pipeline, Pipeline\n",
    "\n",
    "X = data['cleaned_tweets_w/o_SW']\n",
    "y = data['label']\n",
    "\n",
    "CV = CountVectorizer(stop_words=final_stopwords, min_df=10, max_features=None)\n",
    "LR1 = LogisticRegression(class_weight='balanced', solver='liblinear', penalty='l1', C=0.4)\n",
    "\n",
    "CV_pipe = Pipeline([('CV', CV) , ('LR', LR1)] )\n",
    "\n",
    "results = cross_val_score(CV_pipe, X, y, cv=kfold, scoring='accuracy')\n",
    "print(np.round((results.mean())*100, 2), np.round((results.std())*100, 2)) \n",
    "\n",
    "CV_pipe.fit(X,y)\n",
    "len(CV_pipe['CV'].vocabulary_) "
   ]
  },
  {
   "cell_type": "code",
   "execution_count": null,
   "id": "a3de4b3b",
   "metadata": {},
   "outputs": [],
   "source": []
  },
  {
   "cell_type": "code",
   "execution_count": 229,
   "id": "d2100b72",
   "metadata": {},
   "outputs": [
    {
     "name": "stdout",
     "output_type": "stream",
     "text": [
      "85.23 1.28\n"
     ]
    },
    {
     "data": {
      "text/plain": [
       "300"
      ]
     },
     "execution_count": 229,
     "metadata": {},
     "output_type": "execute_result"
    }
   ],
   "source": [
    "# Create a pipeline & cross-validate\n",
    "from sklearn.pipeline import make_pipeline, Pipeline\n",
    "\n",
    "X = data['cleaned_tweets_w/o_SW']\n",
    "y = data['label']\n",
    "\n",
    "CV = CountVectorizer(stop_words=final_stopwords, min_df=10, max_features=300)\n",
    "LR1 = LogisticRegression(class_weight='balanced', solver='liblinear', penalty='l1', C=0.4)\n",
    "\n",
    "CV_pipe = Pipeline([('CV', CV) , ('LR', LR1)] )\n",
    "\n",
    "results = cross_val_score(CV_pipe, X, y, cv=kfold, scoring='accuracy')\n",
    "print(np.round((results.mean())*100, 2), np.round((results.std())*100, 2)) \n",
    "\n",
    "CV_pipe.fit(X,y)\n",
    "len(CV_pipe['CV'].vocabulary_) "
   ]
  },
  {
   "cell_type": "code",
   "execution_count": null,
   "id": "ea6ec811",
   "metadata": {},
   "outputs": [],
   "source": []
  },
  {
   "cell_type": "markdown",
   "id": "83a79b75",
   "metadata": {},
   "source": [
    "# 7. TF-IDF Vector BoW Model + Logistic Regression"
   ]
  },
  {
   "cell_type": "code",
   "execution_count": 230,
   "id": "f152b1bc",
   "metadata": {},
   "outputs": [],
   "source": [
    "doc1 = 'I love cooking'\n",
    "doc2 = 'Today I cooked pasta today'"
   ]
  },
  {
   "cell_type": "code",
   "execution_count": 231,
   "id": "9656e8e8",
   "metadata": {},
   "outputs": [],
   "source": [
    "# TF_score = how many times a word (from the vocab) is appearing in a given doc / total no. of words in that doc\n",
    "# TF(today | doc2) = 2/5\n",
    "# TF_score will be high for \"very frequent\" words in a given doc\n",
    "\n",
    "# IDF_score = log( (1+Total no. of documents) / (1+No. of documents contianing that \"term\") )\n",
    "# IDF_score penalizes those those words which are EQUALLY frequent in almost all the documents\n",
    "\n",
    "# TF_IDF score = TF_score*IDF_score"
   ]
  },
  {
   "cell_type": "code",
   "execution_count": 232,
   "id": "e026f9e6",
   "metadata": {},
   "outputs": [
    {
     "name": "stdout",
     "output_type": "stream",
     "text": [
      "86.82 0.14\n",
      "85.24 0.84\n"
     ]
    },
    {
     "data": {
      "text/plain": [
       "1000"
      ]
     },
     "execution_count": 232,
     "metadata": {},
     "output_type": "execute_result"
    }
   ],
   "source": [
    "from sklearn.feature_extraction.text import TfidfVectorizer\n",
    "\n",
    "X = data['cleaned_tweets_w/o_SW']\n",
    "y = data['label']\n",
    "\n",
    "# we want to include only those words in the vocab which have min df of 5,\n",
    "# means select only those words which occur ATLEAST in 5 documents!! \n",
    "# AND SELECT the TOP 1000 FEATURES ONLY to build the model\n",
    "TFIDF = TfidfVectorizer(stop_words=final_stopwords,  min_df=5, max_features=1000)\n",
    "\n",
    "LR1 = LogisticRegression(class_weight='balanced', solver='liblinear', penalty='l1', C=0.4)\n",
    "CV_pipe = Pipeline([('TFIDF', TFIDF) , ('LR', LR1)] )\n",
    "results = cross_validate(CV_pipe, X, y, cv=kfold, scoring='accuracy', return_train_score=True)\n",
    "\n",
    "# print(results['train_score'])\n",
    "print(np.round((results['train_score'].mean())*100, 2), np.round((results['train_score'].std())*100, 2)) \n",
    "\n",
    "# print(results['test_score'])\n",
    "print(np.round((results['test_score'].mean())*100, 2), np.round((results['test_score'].std())*100, 2)) \n",
    "\n",
    "TFIDF.fit_transform(X)\n",
    "len(TFIDF.vocabulary_)  # no. of features AFTER applying the stopwords"
   ]
  },
  {
   "cell_type": "markdown",
   "id": "398eb47b",
   "metadata": {},
   "source": [
    "# 8. Dimesionality Reduction"
   ]
  },
  {
   "cell_type": "code",
   "execution_count": 233,
   "id": "597c7c15",
   "metadata": {},
   "outputs": [],
   "source": [
    "# [7920 x 15955] >>> [7920 x 1000]"
   ]
  },
  {
   "cell_type": "code",
   "execution_count": 234,
   "id": "bca8ddcd",
   "metadata": {},
   "outputs": [
    {
     "name": "stdout",
     "output_type": "stream",
     "text": [
      "87.42 0.25\n",
      "86.57 0.83\n"
     ]
    },
    {
     "data": {
      "text/plain": [
       "15955"
      ]
     },
     "execution_count": 234,
     "metadata": {},
     "output_type": "execute_result"
    }
   ],
   "source": [
    "from sklearn.decomposition import TruncatedSVD\n",
    "\n",
    "X = data['cleaned_tweets_w/o_SW']\n",
    "y = data['label']\n",
    "\n",
    "TFIDF = TfidfVectorizer()  # will originally have 15955 features\n",
    "SVD = TruncatedSVD(n_components=1000)  # reduce it to 1000 PCs\n",
    "\n",
    "LR1 = LogisticRegression(class_weight='balanced', solver='liblinear', penalty='l1', C=0.4)\n",
    "CV_pipe = Pipeline([('TFIDF', TFIDF), ('SVD', SVD), ('LR', LR1)] )\n",
    "results = cross_validate(CV_pipe, X, y, cv=kfold, scoring='accuracy', return_train_score=True)\n",
    "\n",
    "# print(results['train_score'])\n",
    "print(np.round((results['train_score'].mean())*100, 2), np.round((results['train_score'].std())*100, 2)) \n",
    "\n",
    "# print(results['test_score'])\n",
    "print(np.round((results['test_score'].mean())*100, 2), np.round((results['test_score'].std())*100, 2)) \n",
    "\n",
    "TFIDF.fit_transform(X)\n",
    "len(TFIDF.vocabulary_)  "
   ]
  },
  {
   "cell_type": "code",
   "execution_count": 235,
   "id": "007da074",
   "metadata": {},
   "outputs": [
    {
     "data": {
      "text/plain": [
       "{'TFIDF': TfidfVectorizer(),\n",
       " 'SVD': TruncatedSVD(n_components=1000),\n",
       " 'LR': LogisticRegression(C=0.4, class_weight='balanced', penalty='l1',\n",
       "                    solver='liblinear')}"
      ]
     },
     "execution_count": 235,
     "metadata": {},
     "output_type": "execute_result"
    }
   ],
   "source": [
    "CV_pipe.named_steps"
   ]
  },
  {
   "cell_type": "markdown",
   "id": "251e95fc",
   "metadata": {},
   "source": [
    "# 9. N-Gram Models"
   ]
  },
  {
   "cell_type": "code",
   "execution_count": 236,
   "id": "0f043d71",
   "metadata": {},
   "outputs": [
    {
     "name": "stdout",
     "output_type": "stream",
     "text": [
      "88.89 0.2\n",
      "86.84 0.68\n"
     ]
    },
    {
     "data": {
      "text/plain": [
       "3322"
      ]
     },
     "execution_count": 236,
     "metadata": {},
     "output_type": "execute_result"
    }
   ],
   "source": [
    "# Unigrams + Bigrams\n",
    "X = data['cleaned_tweets_w/o_SW']\n",
    "y = data['label']\n",
    "\n",
    "# we want to include only those words in the vocab which have min df of 5,\n",
    "# means select only those words which occur ATLEAST in 5 documents!! \n",
    "# AND SELECT the TOP 1000 FEATURES ONLY to build the model\n",
    "CV = CountVectorizer(stop_words=final_stopwords,  ngram_range=(1, 2), min_df=5)\n",
    "\n",
    "LR1 = LogisticRegression(class_weight='balanced', solver='liblinear', penalty='l1', C=0.4)\n",
    "CV_pipe = Pipeline([('CV', CV) , ('LR', LR1)] )\n",
    "results = cross_validate(CV_pipe, X, y, cv=kfold, scoring='accuracy', return_train_score=True)\n",
    "\n",
    "# print(results['train_score'])\n",
    "print(np.round((results['train_score'].mean())*100, 2), np.round((results['train_score'].std())*100, 2)) \n",
    "\n",
    "# print(results['test_score'])\n",
    "print(np.round((results['test_score'].mean())*100, 2), np.round((results['test_score'].std())*100, 2)) \n",
    "\n",
    "CV.fit_transform(X)\n",
    "len(CV.vocabulary_)  # no. of features AFTER applying the stopwords"
   ]
  },
  {
   "cell_type": "code",
   "execution_count": 237,
   "id": "3a547e56",
   "metadata": {},
   "outputs": [],
   "source": [
    "# CV.vocabulary_"
   ]
  },
  {
   "cell_type": "code",
   "execution_count": 238,
   "id": "47c796bc",
   "metadata": {},
   "outputs": [
    {
     "data": {
      "text/plain": [
       "{'CV': CountVectorizer(min_df=5, ngram_range=(1, 2),\n",
       "                 stop_words=['phone', 'mobile', 'twitter', 'rt', 'com', 'follow',\n",
       "                             'fifteen', 'm', 'nobody', 'couldn', 'sometimes',\n",
       "                             'her', 'o', 'however', 'anything', 'everywhere',\n",
       "                             'most', 'whoever', 'much', 'nor', 'up', 'thru',\n",
       "                             'll', 'inc', 'too', 'y', 'how', 'what', 'ever',\n",
       "                             'at', ...]),\n",
       " 'LR': LogisticRegression(C=0.4, class_weight='balanced', penalty='l1',\n",
       "                    solver='liblinear')}"
      ]
     },
     "execution_count": 238,
     "metadata": {},
     "output_type": "execute_result"
    }
   ],
   "source": [
    "CV_pipe.named_steps"
   ]
  },
  {
   "cell_type": "code",
   "execution_count": 239,
   "id": "d2686aec",
   "metadata": {},
   "outputs": [
    {
     "data": {
      "text/plain": [
       "'1.1.1'"
      ]
     },
     "execution_count": 239,
     "metadata": {},
     "output_type": "execute_result"
    }
   ],
   "source": [
    "import joblib\n",
    "joblib.__version__"
   ]
  },
  {
   "cell_type": "code",
   "execution_count": 240,
   "id": "7b502abf",
   "metadata": {},
   "outputs": [],
   "source": [
    "# pip install --upgrade joblib==1.1.0"
   ]
  },
  {
   "cell_type": "code",
   "execution_count": 241,
   "id": "d8e5bd58",
   "metadata": {},
   "outputs": [
    {
     "ename": "ModuleNotFoundError",
     "evalue": "No module named 'mglearn'",
     "output_type": "error",
     "traceback": [
      "\u001b[0;31m---------------------------------------------------------------------------\u001b[0m",
      "\u001b[0;31mModuleNotFoundError\u001b[0m                       Traceback (most recent call last)",
      "Cell \u001b[0;32mIn[241], line 2\u001b[0m\n\u001b[1;32m      1\u001b[0m \u001b[38;5;66;03m# !pip install mglearn\u001b[39;00m\n\u001b[0;32m----> 2\u001b[0m \u001b[38;5;28;01mimport\u001b[39;00m \u001b[38;5;21;01mmglearn\u001b[39;00m\n",
      "\u001b[0;31mModuleNotFoundError\u001b[0m: No module named 'mglearn'"
     ]
    }
   ],
   "source": [
    "# !pip install mglearn\n",
    "import mglearn"
   ]
  },
  {
   "cell_type": "code",
   "execution_count": null,
   "id": "56595ea9",
   "metadata": {},
   "outputs": [],
   "source": [
    "# Most important features when using unigrams, bigrams, and trigrams with tf-idf rescaling\n",
    "\n",
    "# extract feature names and coefficients for Unigram Model\n",
    "# CV = CV_pipe.named_steps['CV']\n",
    "feature_names = np.array(CV.get_feature_names())\n",
    "# LR = CV_pipe.named_steps['LR']\n",
    "\n",
    "\n",
    "LR1.fit(CV.fit_transform(X), y)\n",
    "coef = LR1.coef_\n",
    "mglearn.tools.visualize_coefficients(coef, feature_names, n_top_features=25)"
   ]
  },
  {
   "cell_type": "code",
   "execution_count": null,
   "id": "8d5d7026",
   "metadata": {},
   "outputs": [],
   "source": [
    "len(coef.ravel()), len(feature_names) "
   ]
  },
  {
   "cell_type": "code",
   "execution_count": null,
   "id": "abdc41f8",
   "metadata": {},
   "outputs": [],
   "source": [
    "# Visualizing only the trigrams\n",
    "# find 2-gram features\n",
    "mask = np.array([len(feature.split(\" \")) for feature in feature_names]) == 2\n",
    "\n",
    "LR1.fit(CV.fit_transform(X), y)\n",
    "coef = LR1.coef_\n",
    "\n",
    "# visualize only 2-gram features\n",
    "mglearn.tools.visualize_coefficients(coef.ravel()[mask], feature_names[mask], n_top_features=25)"
   ]
  },
  {
   "cell_type": "code",
   "execution_count": null,
   "id": "1a9791e2",
   "metadata": {},
   "outputs": [],
   "source": [
    "# Unigrams + Bigrams + Trigrams\n",
    "X = data['cleaned_tweets_w/o_SW']\n",
    "y = data['label']\n",
    "\n",
    "# we want to include only those words in the vocab which have min df of 5,\n",
    "# means select only those words which occur ATLEAST in 5 documents!! \n",
    "# AND SELECT the TOP 1000 FEATURES ONLY to build the model\n",
    "CV = CountVectorizer(stop_words=final_stopwords,  ngram_range=(1, 3), min_df=5)\n",
    "\n",
    "LR1 = LogisticRegression(class_weight='balanced', solver='liblinear', penalty='l1', C=0.4)\n",
    "CV_pipe = Pipeline([('CV', CV) , ('LR', LR1)] )\n",
    "results = cross_validate(CV_pipe, X, y, cv=kfold, scoring='accuracy', return_train_score=True)\n",
    "\n",
    "# print(results['train_score'])\n",
    "print(np.round((results['train_score'].mean())*100, 2), np.round((results['train_score'].std())*100, 2)) \n",
    "\n",
    "# print(results['test_score'])\n",
    "print(np.round((results['test_score'].mean())*100, 2), np.round((results['test_score'].std())*100, 2)) \n",
    "\n",
    "CV.fit_transform(X)\n",
    "len(CV.vocabulary_)  # no. of features AFTER applying the stopwords"
   ]
  },
  {
   "cell_type": "code",
   "execution_count": null,
   "id": "68c3645d",
   "metadata": {},
   "outputs": [],
   "source": [
    "# Visualizing only the trigrams\n",
    "# find 3-gram features\n",
    "mask = np.array([len(feature.split(\" \")) for feature in feature_names]) == 3\n",
    "feature_names = np.array(CV.get_feature_names())\n",
    "\n",
    "LR1.fit(CV.fit_transform(X), y)\n",
    "coef = LR1.coef_\n",
    "\n",
    "# visualize only 3-gram features\n",
    "mglearn.tools.visualize_coefficients(coef.ravel()[mask], feature_names[mask], n_top_features=25)"
   ]
  },
  {
   "cell_type": "code",
   "execution_count": null,
   "id": "a352bfd4",
   "metadata": {},
   "outputs": [],
   "source": [
    "len(coef.ravel()), len(feature_names)"
   ]
  },
  {
   "cell_type": "code",
   "execution_count": null,
   "id": "bfd0d534",
   "metadata": {},
   "outputs": [],
   "source": [
    "# CV.vocabulary_"
   ]
  },
  {
   "cell_type": "code",
   "execution_count": null,
   "id": "0bd6cbc9",
   "metadata": {},
   "outputs": [],
   "source": [
    "data.to_pickle(\"tweets_cleaned.pkl\")"
   ]
  }
 ],
 "metadata": {
  "kernelspec": {
   "display_name": "Python 3 (ipykernel)",
   "language": "python",
   "name": "python3"
  },
  "language_info": {
   "codemirror_mode": {
    "name": "ipython",
    "version": 3
   },
   "file_extension": ".py",
   "mimetype": "text/x-python",
   "name": "python",
   "nbconvert_exporter": "python",
   "pygments_lexer": "ipython3",
   "version": "3.11.4"
  }
 },
 "nbformat": 4,
 "nbformat_minor": 5
}
